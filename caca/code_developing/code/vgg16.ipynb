{
 "cells": [
  {
   "cell_type": "code",
   "execution_count": 1,
   "metadata": {
    "ExecuteTime": {
     "end_time": "2023-07-19T11:17:50.271001400Z",
     "start_time": "2023-07-19T11:17:32.164123900Z"
    }
   },
   "outputs": [
    {
     "name": "stdout",
     "output_type": "stream",
     "text": [
      "Num GPUs Available:  1\n"
     ]
    }
   ],
   "source": [
    "import tensorflow as tf\n",
    "import numpy as np\n",
    "from PIL import Image\n",
    "from matplotlib import pyplot as plt\n",
    "from keras.applications.xception import Xception\n",
    "from keras.applications.efficientnet import EfficientNetB7\n",
    "from keras.backend import clear_session\n",
    "\n",
    "print(\"Num GPUs Available: \", len(tf.config.list_physical_devices('GPU')))\n",
    "\n",
    "clear_session()\n",
    "#vgg16 = tf.keras.applications.vgg16.VGG16()\n",
    "#xception = Xception()\n",
    "eff = EfficientNetB7()"
   ]
  },
  {
   "cell_type": "code",
   "execution_count": 2,
   "outputs": [
    {
     "name": "stdout",
     "output_type": "stream",
     "text": [
      "2.10.0\n"
     ]
    }
   ],
   "source": [
    "print(tf.__version__)"
   ],
   "metadata": {
    "collapsed": false,
    "ExecuteTime": {
     "end_time": "2023-07-19T11:17:54.385301900Z",
     "start_time": "2023-07-19T11:17:54.371303200Z"
    }
   }
  },
  {
   "cell_type": "code",
   "execution_count": 5,
   "metadata": {
    "ExecuteTime": {
     "end_time": "2023-07-19T11:19:41.703033600Z",
     "start_time": "2023-07-19T11:19:26.349168900Z"
    }
   },
   "outputs": [
    {
     "name": "stdout",
     "output_type": "stream",
     "text": [
      "1/1 [==============================] - 10s 10s/step\n",
      "airship: 0.07640387117862701\n",
      "traffic_light: 0.04724140837788582\n",
      "crane: 0.03250009939074516\n"
     ]
    }
   ],
   "source": [
    "from keras.applications import EfficientNetB7\n",
    "from keras.preprocessing import image\n",
    "from keras.applications.vgg16 import preprocess_input, decode_predictions\n",
    "import numpy as np\n",
    "from PIL import Image\n",
    "from keras.backend import clear_session\n",
    "\n",
    "clear_session()\n",
    "\n",
    "# Cargar el modelo VGG16 preentrenado\n",
    "model = EfficientNetB7()\n",
    "\n",
    "# Cargar una imagen de ejemplo\n",
    "img_path = '/Users/jeste/Pictures/Screenshots/my_frst_webots_world_2.png'\n",
    "#img = image.load_img(img_path, target_size=(224, 224))\n",
    "img = Image.open(img_path)\n",
    "target_size=(600, 600)\n",
    "img = img.resize(target_size)\n",
    "\n",
    "# Preprocesar la imagen para que coincida con el formato de entrada del modelo VGG16\n",
    "#x = image.img_to_array(img)\n",
    "x = np.array(img)\n",
    "x = np.expand_dims(x, axis=0)\n",
    "x = preprocess_input(x)\n",
    "\n",
    "# Realizar la predicción utilizando el modelo VGG16\n",
    "preds = model.predict(x)\n",
    "\n",
    "# Decodificar las predicciones en etiquetas legibles\n",
    "decoded_preds = decode_predictions(preds, top=3)[0]\n",
    "\n",
    "# Imprimir las etiquetas y las probabilidades de las predicciones\n",
    "for label, description, probability in decoded_preds:\n",
    "    print(f'{description}: {probability}')\n"
   ]
  },
  {
   "cell_type": "code",
   "execution_count": 48,
   "metadata": {
    "ExecuteTime": {
     "end_time": "2023-07-19T11:32:54.600604300Z",
     "start_time": "2023-07-19T11:32:54.595603500Z"
    }
   },
   "outputs": [],
   "source": [
    "def process():\n",
    "    # Cargar una imagen de ejemplo\n",
    "    img_path = '/Users/jeste/Pictures/Screenshots/my_frst_webots_world_2.png'\n",
    "    img = Image.open(img_path)\n",
    "    img = img.resize((600, 600))\n",
    "\n",
    "    # Preprocesar la imagen para que coincida con el formato de entrada del modelo VGG16\n",
    "    x = np.array(img)\n",
    "    x = np.expand_dims(x, axis=0)\n",
    "    x = preprocess_input(x)\n",
    "\n",
    "    # Realizar la predicción utilizando el modelo VGG16\n",
    "    return model.predict(x, verbose=False)"
   ]
  },
  {
   "cell_type": "code",
   "execution_count": 49,
   "metadata": {
    "ExecuteTime": {
     "end_time": "2023-07-19T11:32:58.140511500Z",
     "start_time": "2023-07-19T11:32:57.600177200Z"
    }
   },
   "outputs": [
    {
     "name": "stdout",
     "output_type": "stream",
     "text": [
      "0.5383277999999336\n"
     ]
    }
   ],
   "source": [
    "import timeit\n",
    "\n",
    "time = timeit.timeit(process, number=1)\n",
    "print(time)"
   ]
  },
  {
   "cell_type": "code",
   "execution_count": 15,
   "outputs": [
    {
     "name": "stdout",
     "output_type": "stream",
     "text": [
      "0.2333231000000069\n"
     ]
    }
   ],
   "source": [
    "import statistics\n",
    "\n",
    "medias = []\n",
    "for i in range(100):\n",
    "    time = timeit.timeit(process, number=1)\n",
    "    medias.append(time)\n",
    "print(statistics.median(medias))"
   ],
   "metadata": {
    "collapsed": false,
    "ExecuteTime": {
     "end_time": "2023-07-19T11:24:00.877078400Z",
     "start_time": "2023-07-19T11:23:36.954715700Z"
    }
   }
  }
 ],
 "metadata": {
  "kernelspec": {
   "display_name": "Python 3",
   "language": "python",
   "name": "python3"
  },
  "language_info": {
   "codemirror_mode": {
    "name": "ipython",
    "version": 3
   },
   "file_extension": ".py",
   "mimetype": "text/x-python",
   "name": "python",
   "nbconvert_exporter": "python",
   "pygments_lexer": "ipython3",
   "version": "3.10.11"
  },
  "orig_nbformat": 4
 },
 "nbformat": 4,
 "nbformat_minor": 2
}
