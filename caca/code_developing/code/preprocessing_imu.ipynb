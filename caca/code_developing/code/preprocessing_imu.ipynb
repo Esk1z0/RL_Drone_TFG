{
 "cells": [
  {
   "cell_type": "code",
   "execution_count": 17,
   "outputs": [],
   "source": [
    "import pandas as pd\n",
    "import numpy as np\n",
    "from scipy.spatial.transform import Rotation"
   ],
   "metadata": {
    "collapsed": false,
    "ExecuteTime": {
     "end_time": "2023-07-01T19:45:06.904721100Z",
     "start_time": "2023-07-01T19:45:06.759723200Z"
    }
   }
  },
  {
   "cell_type": "code",
   "execution_count": 6,
   "outputs": [],
   "source": [
    "df = pd.read_csv(\"../Data/imu_data_sample.csv\", index_col=\"index\")"
   ],
   "metadata": {
    "collapsed": false,
    "ExecuteTime": {
     "end_time": "2023-07-01T19:36:41.173654300Z",
     "start_time": "2023-07-01T19:36:41.152222600Z"
    }
   }
  },
  {
   "cell_type": "code",
   "execution_count": 9,
   "outputs": [],
   "source": [
    "initial_q = df.loc[1].to_list()\n",
    "final_q = df.loc[3].to_list()"
   ],
   "metadata": {
    "collapsed": false,
    "ExecuteTime": {
     "end_time": "2023-07-01T19:37:17.823892800Z",
     "start_time": "2023-07-01T19:37:17.812071Z"
    }
   }
  },
  {
   "cell_type": "code",
   "execution_count": 11,
   "outputs": [],
   "source": [
    "q_1 = np.array(initial_q)\n",
    "q_2 = np.array(final_q)"
   ],
   "metadata": {
    "collapsed": false,
    "ExecuteTime": {
     "end_time": "2023-07-01T19:38:20.426783200Z",
     "start_time": "2023-07-01T19:38:20.420783Z"
    }
   }
  },
  {
   "cell_type": "code",
   "execution_count": 15,
   "outputs": [
    {
     "name": "stdout",
     "output_type": "stream",
     "text": [
      "[0.58724517 0.0571773  0.00981005 0.34576747]\n"
     ]
    }
   ],
   "source": [
    "delta_q = q_1 * np.conjugate(q_2)\n",
    "print(delta_q)"
   ],
   "metadata": {
    "collapsed": false,
    "ExecuteTime": {
     "end_time": "2023-07-01T19:39:22.174563700Z",
     "start_time": "2023-07-01T19:39:22.158384300Z"
    }
   }
  },
  {
   "cell_type": "code",
   "execution_count": 16,
   "outputs": [
    {
     "data": {
      "text/plain": "array([0.85861759, 0.08359956, 0.01434339, 0.5055504 ])"
     },
     "execution_count": 16,
     "metadata": {},
     "output_type": "execute_result"
    }
   ],
   "source": [
    "delta_q /= np.linalg.norm(delta_q)\n",
    "delta_q"
   ],
   "metadata": {
    "collapsed": false,
    "ExecuteTime": {
     "end_time": "2023-07-01T19:41:54.610239400Z",
     "start_time": "2023-07-01T19:41:54.586080200Z"
    }
   }
  },
  {
   "cell_type": "code",
   "execution_count": 19,
   "outputs": [
    {
     "data": {
      "text/plain": "<scipy.spatial.transform._rotation.Rotation at 0x1ea2c7c0b70>"
     },
     "execution_count": 19,
     "metadata": {},
     "output_type": "execute_result"
    }
   ],
   "source": [
    "delta_rotation = Rotation.from_quat(delta_q)\n",
    "delta_rotation"
   ],
   "metadata": {
    "collapsed": false,
    "ExecuteTime": {
     "end_time": "2023-07-01T19:45:21.123392Z",
     "start_time": "2023-07-01T19:45:21.101366Z"
    }
   }
  },
  {
   "cell_type": "code",
   "execution_count": 21,
   "outputs": [
    {
     "name": "stdout",
     "output_type": "stream",
     "text": [
      "[20.71469843  2.0168928   0.34604338]\n"
     ]
    }
   ],
   "source": [
    "ang_vel = delta_rotation.as_rotvec() / 0.1\n",
    "print(ang_vel)"
   ],
   "metadata": {
    "collapsed": false,
    "ExecuteTime": {
     "end_time": "2023-07-01T19:46:21.531695500Z",
     "start_time": "2023-07-01T19:46:21.484699Z"
    }
   }
  },
  {
   "cell_type": "code",
   "execution_count": 36,
   "outputs": [],
   "source": [
    "TIME_INTERVAL = 0.1\n",
    "\n",
    "def get_angular_vel(list1, list2):\n",
    "    q_1 = np.array(list1)\n",
    "    q_2 = np.array(list2)\n",
    "\n",
    "    delta_q = q_1 * np.conjugate(q_2)\n",
    "    delta_q /= np.linalg.norm(delta_q)\n",
    "    delta_rotation = Rotation.from_quat(delta_q)\n",
    "\n",
    "    rotation = delta_rotation.as_rotvec() / TIME_INTERVAL\n",
    "\n",
    "    return rotation.tolist()"
   ],
   "metadata": {
    "collapsed": false,
    "ExecuteTime": {
     "end_time": "2023-07-01T20:27:47.068396800Z",
     "start_time": "2023-07-01T20:27:47.068396800Z"
    }
   }
  },
  {
   "cell_type": "code",
   "execution_count": 30,
   "outputs": [],
   "source": [
    "angular_vel_list = []\n",
    "\n",
    "for index in range(len(df)-1):\n",
    "    list1 = df.loc[index].to_list()\n",
    "    list2 = df.loc[index+1].to_list()\n",
    "    angular_vel_list.append(get_angular_vel(list1, list2))"
   ],
   "metadata": {
    "collapsed": false,
    "ExecuteTime": {
     "end_time": "2023-07-01T20:01:31.931979900Z",
     "start_time": "2023-07-01T20:01:31.906178500Z"
    }
   }
  },
  {
   "cell_type": "code",
   "execution_count": 32,
   "outputs": [
    {
     "name": "stdout",
     "output_type": "stream",
     "text": [
      "24.378949978459552 -0.39973262576280855\n"
     ]
    }
   ],
   "source": [
    "maximo = 0\n",
    "minimo = 0\n",
    "for rotation in angular_vel_list:\n",
    "    for val in rotation:\n",
    "        if (maximo < val):\n",
    "            maximo = val\n",
    "        if (minimo > val):\n",
    "            minimo = val\n",
    "print(maximo, minimo)"
   ],
   "metadata": {
    "collapsed": false,
    "ExecuteTime": {
     "end_time": "2023-07-01T20:03:45.987621100Z",
     "start_time": "2023-07-01T20:03:45.975646800Z"
    }
   }
  },
  {
   "cell_type": "code",
   "execution_count": 33,
   "outputs": [],
   "source": [
    "#according to google, mavic 2 pro can handle 3.5 rad/sec of angular velocity so I'll go with 7 because is a lucky number\n",
    "MAX_ROTATION = 7\n",
    "MIN_ROTATION = -7\n",
    "def min_max_scaler(data, min_value, max_value):\n",
    "    scaled_data = (data - min_value) / (max_value - min_value)\n",
    "    if scaled_data > 1:\n",
    "        scaled_data = 1\n",
    "    elif scaled_data < 0:\n",
    "        scaled_data = 0\n",
    "    return  scaled_data"
   ],
   "metadata": {
    "collapsed": false,
    "ExecuteTime": {
     "end_time": "2023-07-01T20:16:39.813877500Z",
     "start_time": "2023-07-01T20:16:39.810098Z"
    }
   }
  },
  {
   "cell_type": "code",
   "execution_count": 35,
   "outputs": [
    {
     "data": {
      "text/plain": "[1, 0.6440637712690125, 0.5247173841791374]"
     },
     "execution_count": 35,
     "metadata": {},
     "output_type": "execute_result"
    }
   ],
   "source": [
    "angular_vel_list[0]\n",
    "\n",
    "def rotation_scaler(rotation):\n",
    "    for i in rotation:\n",
    "        rotation[rotation.index(i)] = min_max_scaler(i, MIN_ROTATION, MAX_ROTATION)\n",
    "    return rotation\n",
    "\n",
    "rotation_scaler(angular_vel_list[0])"
   ],
   "metadata": {
    "collapsed": false,
    "ExecuteTime": {
     "end_time": "2023-07-01T20:19:47.495620300Z",
     "start_time": "2023-07-01T20:19:47.472622600Z"
    }
   }
  },
  {
   "cell_type": "code",
   "execution_count": 44,
   "outputs": [],
   "source": [
    "def get_angular_accel(list1, list2, list3):\n",
    "    ang_vel1 = get_angular_vel(list1, list2)\n",
    "    ang_vel2 = get_angular_vel(list2, list3)\n",
    "    angular_acceleration  = []\n",
    "    for val in range(len(ang_vel1)):\n",
    "        angular_acceleration.append((ang_vel2[val] - ang_vel1[val])/TIME_INTERVAL)\n",
    "    return angular_acceleration"
   ],
   "metadata": {
    "collapsed": false,
    "ExecuteTime": {
     "end_time": "2023-07-01T20:37:57.966846Z",
     "start_time": "2023-07-01T20:37:57.964854500Z"
    }
   }
  },
  {
   "cell_type": "code",
   "execution_count": 45,
   "outputs": [
    {
     "name": "stdout",
     "output_type": "stream",
     "text": [
      "36.80826077786122 -21.942560791231788\n"
     ]
    }
   ],
   "source": [
    "angular_accel_list = []\n",
    "\n",
    "for index in range(len(df)-2):\n",
    "    list1 = df.loc[index].to_list()\n",
    "    list2 = df.loc[index+1].to_list()\n",
    "    list3 = df.loc[index+2].to_list()\n",
    "    angular_accel_list.append(get_angular_accel(list1, list2, list3))\n",
    "\n",
    "maximo = 0\n",
    "minimo = 0\n",
    "for rotation in angular_accel_list:\n",
    "    for val in rotation:\n",
    "        if (maximo < val):\n",
    "            maximo = val\n",
    "        if (minimo > val):\n",
    "            minimo = val\n",
    "print(maximo, minimo)"
   ],
   "metadata": {
    "collapsed": false,
    "ExecuteTime": {
     "end_time": "2023-07-01T20:37:59.903369600Z",
     "start_time": "2023-07-01T20:37:59.847615100Z"
    }
   }
  },
  {
   "cell_type": "code",
   "execution_count": 58,
   "outputs": [],
   "source": [
    "MAX_ACCELERATION = MAX_ROTATION**2\n",
    "MIN_ACCELERATION = - MIN_ROTATION**2\n",
    "\n",
    "def angular_velocity(data1, data2):\n",
    "    velocity = get_angular_vel(data1, data2)\n",
    "    return rotation_scaler(velocity)\n",
    "\n",
    "def angular_acceleration(data1, data2, data3):\n",
    "    acceleration = get_angular_accel(data1, data2, data3)\n",
    "    return rotation_scaler(acceleration)"
   ],
   "metadata": {
    "collapsed": false,
    "ExecuteTime": {
     "end_time": "2023-07-01T20:50:29.696538200Z",
     "start_time": "2023-07-01T20:50:29.678514100Z"
    }
   }
  },
  {
   "cell_type": "code",
   "execution_count": 59,
   "outputs": [
    {
     "name": "stdout",
     "output_type": "stream",
     "text": [
      "9.920000047713984e-05 6.880000000819564e-05\n"
     ]
    }
   ],
   "source": [
    "import timeit\n",
    "\n",
    "data1 = df.loc[0].to_list()\n",
    "data2 = df.loc[1].to_list()\n",
    "data3 = df.loc[2].to_list()\n",
    "\n",
    "vel_time = timeit.timeit((lambda: angular_velocity(data1, data2)) ,number=1)\n",
    "accel_time = timeit.timeit((lambda : angular_acceleration(data1, data2, data3)), number=1)\n",
    "\n",
    "print(vel_time, accel_time)"
   ],
   "metadata": {
    "collapsed": false,
    "ExecuteTime": {
     "end_time": "2023-07-01T20:50:31.428650600Z",
     "start_time": "2023-07-01T20:50:31.383515200Z"
    }
   }
  }
 ],
 "metadata": {
  "kernelspec": {
   "display_name": "Python 3",
   "language": "python",
   "name": "python3"
  },
  "language_info": {
   "codemirror_mode": {
    "name": "ipython",
    "version": 2
   },
   "file_extension": ".py",
   "mimetype": "text/x-python",
   "name": "python",
   "nbconvert_exporter": "python",
   "pygments_lexer": "ipython2",
   "version": "2.7.6"
  }
 },
 "nbformat": 4,
 "nbformat_minor": 0
}
