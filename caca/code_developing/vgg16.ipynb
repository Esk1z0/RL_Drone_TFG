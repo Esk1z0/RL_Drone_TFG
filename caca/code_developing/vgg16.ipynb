{
 "cells": [
  {
   "cell_type": "code",
   "execution_count": 1,
   "metadata": {},
   "outputs": [
    {
     "name": "stdout",
     "output_type": "stream",
     "text": [
      "Num GPUs Available:  0\n"
     ]
    }
   ],
   "source": [
    "import tensorflow as tf\n",
    "import numpy as np\n",
    "from PIL import Image\n",
    "from matplotlib import pyplot as plt\n",
    "\n",
    "vgg16 = tf.keras.applications.vgg16.VGG16()\n",
    "\n",
    "print(\"Num GPUs Available: \", len(tf.config.list_physical_devices('GPU')))\n"
   ]
  },
  {
   "cell_type": "code",
   "execution_count": 2,
   "metadata": {},
   "outputs": [
    {
     "name": "stdout",
     "output_type": "stream",
     "text": [
      "1/1 [==============================] - 0s 341ms/step\n",
      "envelope: 0.34366780519485474\n",
      "doormat: 0.07739290595054626\n",
      "carton: 0.07216000556945801\n"
     ]
    }
   ],
   "source": [
    "from tensorflow.keras.applications import VGG16\n",
    "from tensorflow.keras.preprocessing import image\n",
    "from tensorflow.keras.applications.vgg16 import preprocess_input, decode_predictions\n",
    "import numpy as np\n",
    "\n",
    "# Cargar el modelo VGG16 preentrenado\n",
    "model = VGG16(weights='imagenet')\n",
    "\n",
    "# Cargar una imagen de ejemplo\n",
    "img_path = '/Users/jeste/Pictures/Screenshots/my_frst_webots_world_2.png'\n",
    "img = image.load_img(img_path, target_size=(224, 224))\n",
    "\n",
    "# Preprocesar la imagen para que coincida con el formato de entrada del modelo VGG16\n",
    "x = image.img_to_array(img)\n",
    "x = np.expand_dims(x, axis=0)\n",
    "x = preprocess_input(x)\n",
    "\n",
    "# Realizar la predicción utilizando el modelo VGG16\n",
    "preds = model.predict(x)\n",
    "\n",
    "# Decodificar las predicciones en etiquetas legibles\n",
    "decoded_preds = decode_predictions(preds, top=3)[0]\n",
    "\n",
    "# Imprimir las etiquetas y las probabilidades de las predicciones\n",
    "for label, description, probability in decoded_preds:\n",
    "    print(f'{description}: {probability}')\n"
   ]
  },
  {
   "cell_type": "code",
   "execution_count": 3,
   "metadata": {},
   "outputs": [],
   "source": [
    "def process():\n",
    "    # Cargar una imagen de ejemplo\n",
    "    img_path = '/Users/jeste/Pictures/Screenshots/my_frst_webots_world_2.png'\n",
    "    img = image.load_img(img_path, target_size=(224, 224))\n",
    "\n",
    "    # Preprocesar la imagen para que coincida con el formato de entrada del modelo VGG16\n",
    "    x = image.img_to_array(img)\n",
    "    x = np.expand_dims(x, axis=0)\n",
    "    x = preprocess_input(x)\n",
    "\n",
    "    # Realizar la predicción utilizando el modelo VGG16\n",
    "    return model.predict(x, verbose=False)"
   ]
  },
  {
   "cell_type": "code",
   "execution_count": 4,
   "metadata": {},
   "outputs": [
    {
     "name": "stdout",
     "output_type": "stream",
     "text": [
      "0.2043063000019174\n"
     ]
    }
   ],
   "source": [
    "import timeit\n",
    "\n",
    "time = timeit.timeit(process, number=1)\n",
    "print(time)"
   ]
  }
 ],
 "metadata": {
  "kernelspec": {
   "display_name": "Python 3",
   "language": "python",
   "name": "python3"
  },
  "language_info": {
   "codemirror_mode": {
    "name": "ipython",
    "version": 3
   },
   "file_extension": ".py",
   "mimetype": "text/x-python",
   "name": "python",
   "nbconvert_exporter": "python",
   "pygments_lexer": "ipython3",
   "version": "3.10.11"
  },
  "orig_nbformat": 4
 },
 "nbformat": 4,
 "nbformat_minor": 2
}
