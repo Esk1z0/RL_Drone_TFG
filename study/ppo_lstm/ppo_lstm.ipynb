{
 "cells": [
  {
   "cell_type": "code",
   "execution_count": 1,
   "outputs": [],
   "source": [
    "import enviroments_package\n",
    "import gymnasium\n",
    "\n",
    "\n",
    "world_dir = \"/Users/jeste/Desktop/Clase/TFG/drone_tfg_juanes/simulation_package/worlds/my_frst_webots_world.wbt\"\n",
    "json_take_off = \"/Users/jeste/Desktop/Clase/TFG/drone_tfg_juanes/configs/reward_package_config/takeoff.json\"\n",
    "json_basic = \"/Users/jeste/Desktop/Clase/TFG/drone_tfg_juanes/configs/reward_package_config/basic_no_roll.json\"\n",
    "json_use_motors = \"/Users/jeste/Desktop/Clase/TFG/drone_tfg_juanes/configs/reward_package_config/motors_use.json\""
   ],
   "metadata": {
    "collapsed": false,
    "ExecuteTime": {
     "end_time": "2024-11-09T14:27:01.527991500Z",
     "start_time": "2024-11-09T14:27:00.886994900Z"
    }
   }
  },
  {
   "cell_type": "code",
   "execution_count": 2,
   "outputs": [],
   "source": [
    "import gymnasium\n",
    "from stable_baselines3.common.env_util import SubprocVecEnv\n",
    "from enviroments_package import RemoveKeyObservationWrapper, ScaleRewardWrapper, ScaleActionWrapper\n",
    "\n",
    "\n",
    "num_envs = 4  # Define el número de entornos que se van a crear\n",
    "\n",
    "def make_env():\n",
    "    def _init():\n",
    "        # Crea el entorno base\n",
    "        env = gymnasium.make('drone_tfg_juanes/Drone-v1', simulation_path=world_dir, reward_json_path=json_use_motors, no_render=False)\n",
    "\n",
    "        # Aplica los wrappers necesarios\n",
    "        env = RemoveKeyObservationWrapper(env, remove_keys=[\"camera\", \"gps\"])\n",
    "        env = ScaleRewardWrapper(env, scale_factor=0.1)\n",
    "        env = ScaleActionWrapper(env, in_low=-1, in_high=1, out_low=0, out_high=576)\n",
    "        return env\n",
    "    return _init\n",
    "\n",
    "\n",
    "env = SubprocVecEnv([make_env() for _ in range(num_envs)])"
   ],
   "metadata": {
    "collapsed": false,
    "ExecuteTime": {
     "end_time": "2024-11-09T14:27:17.331840600Z",
     "start_time": "2024-11-09T14:27:01.530991600Z"
    }
   }
  },
  {
   "cell_type": "code",
   "execution_count": 3,
   "outputs": [],
   "source": [
    "from stable_baselines3.common.callbacks import BaseCallback\n",
    "\n",
    "\n",
    "class TrainingCallback(BaseCallback):\n",
    "    def __init__(self, env, verbose=1):\n",
    "        super(TrainingCallback, self).__init__(verbose)\n",
    "        self.env = env\n",
    "\n",
    "    def _on_step(self) -> bool:\n",
    "        return True\n",
    "\n",
    "    def _on_rollout_start(self) -> None:\n",
    "        self.env.reset()\n",
    "\n",
    "    def _on_training_end(self):\n",
    "        print(\"Entrenamiento finalizado. Cerrando el entorno...\")\n",
    "        self.env.close()\n",
    "\n",
    "callback = TrainingCallback(env=env)"
   ],
   "metadata": {
    "collapsed": false,
    "ExecuteTime": {
     "end_time": "2024-11-09T14:27:17.352836300Z",
     "start_time": "2024-11-09T14:27:17.332838600Z"
    }
   }
  },
  {
   "cell_type": "code",
   "execution_count": null,
   "outputs": [
    {
     "name": "stdout",
     "output_type": "stream",
     "text": [
      "Logging to ./logs/\n",
      "first train\n",
      "Using cuda device\n"
     ]
    }
   ],
   "source": [
    "import os\n",
    "from sb3_contrib import RecurrentPPO\n",
    "from stable_baselines3.common.logger import configure\n",
    "\n",
    "\n",
    "timesteps = 40960 #define los asos totales que se usarán para entrenar al modelo\n",
    "log_dir = \"./logs/\"\n",
    "os.makedirs(log_dir, exist_ok=True)\n",
    "\n",
    "new_logger = configure(log_dir, [\"stdout\", \"csv\", \"log\"])\n",
    "\n",
    "if not os.path.exists('./models/ppomodel.zip'):\n",
    "    print(\"first train\")\n",
    "\n",
    "    model = RecurrentPPO(\n",
    "        \"MultiInputLstmPolicy\",\n",
    "        env,\n",
    "        verbose=1,          # Si quiero ver las acciones por terminal\n",
    "        n_steps=1024,       # Controla el buffer de experiencias para actualizar la política\n",
    "        batch_size=64,      # Tamaño del lote, separa el buffer de experiencias en paquetes de este tamaño\n",
    "        learning_rate=1e-3, # Tasa de aprendizaje\n",
    "        ent_coef=0.2       # Coeficiente de entropía para exploración\n",
    "    )\n",
    "    model.set_logger(new_logger)\n",
    "    model.learn(total_timesteps=timesteps, callback=callback)\n",
    "    model.save('./models/ppomodel')\n",
    "else:\n",
    "    print(\"retrainning\")\n",
    "\n",
    "    model = RecurrentPPO.load(\"./models/ppomodel.zip\", env=env)\n",
    "\n",
    "    model.set_logger(new_logger)\n",
    "\n",
    "    model.learn(total_timesteps=timesteps, callback=callback)\n",
    "    model.save(path=\"./models/ppomodel\")"
   ],
   "metadata": {
    "collapsed": false,
    "is_executing": true,
    "ExecuteTime": {
     "start_time": "2024-11-09T14:27:17.345837500Z"
    }
   }
  },
  {
   "cell_type": "code",
   "execution_count": null,
   "outputs": [],
   "source": [
    "import os\n",
    "import shutil\n",
    "from datetime import datetime\n",
    "\n",
    "\n",
    "def move_and_rename_csv(src_dir, dst_dir, new_name):\n",
    "    # Buscar el archivo CSV en el directorio fuente\n",
    "    csv_files = [f for f in os.listdir(src_dir) if f.endswith('.csv')]\n",
    "\n",
    "    # Verificar si hay algún archivo CSV en el directorio de origen\n",
    "    if not csv_files:\n",
    "        print(\"No se encontró ningún archivo CSV en el directorio de origen.\")\n",
    "        return\n",
    "\n",
    "    # Tomar el primer archivo CSV encontrado\n",
    "    csv_file = csv_files[0]\n",
    "    src_path = os.path.join(src_dir, csv_file)\n",
    "    dst_path = os.path.join(dst_dir, new_name)\n",
    "\n",
    "    # Mover y renombrar el archivo\n",
    "    shutil.copy2(src_path, dst_path)\n",
    "    print(f\"Archivo copiado y renombrado a {dst_path}\")\n",
    "\n",
    "\n",
    "src_directory = log_dir\n",
    "dst_directory = './data_collected/'\n",
    "new_filename = f'ppo{datetime.now().strftime(\"%Y%m%d_%H%M%S\")}.csv'\n",
    "\n",
    "move_and_rename_csv(src_directory, dst_directory, new_filename)"
   ],
   "metadata": {
    "collapsed": false,
    "is_executing": true
   }
  },
  {
   "cell_type": "markdown",
   "source": [
    "init = make_env()\n",
    "env = init()\n",
    "observation, _ = env.reset()\n",
    "\n",
    "for i in range(100):\n",
    "    action, _states = model.predict(observation, deterministic=True)\n",
    "    observation, reward, terminated, truncated, _ = env.step(action)\n",
    "\n",
    "    if terminated:\n",
    "        observation, _ = env.reset()\n",
    "\n",
    "env.close()"
   ],
   "metadata": {
    "collapsed": false
   }
  }
 ],
 "metadata": {
  "kernelspec": {
   "display_name": "Python 3",
   "language": "python",
   "name": "python3"
  },
  "language_info": {
   "codemirror_mode": {
    "name": "ipython",
    "version": 2
   },
   "file_extension": ".py",
   "mimetype": "text/x-python",
   "name": "python",
   "nbconvert_exporter": "python",
   "pygments_lexer": "ipython2",
   "version": "2.7.6"
  }
 },
 "nbformat": 4,
 "nbformat_minor": 0
}
