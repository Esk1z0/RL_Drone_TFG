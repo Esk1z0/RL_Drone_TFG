{
 "cells": [
  {
   "cell_type": "code",
   "execution_count": 1,
   "outputs": [],
   "source": [
    "import enviroments_package\n",
    "import gymnasium\n",
    "\n",
    "\n",
    "world_dir = \"/Users/jeste/Desktop/Clase/TFG/drone_tfg_juanes/simulation_package/worlds/my_frst_webots_world.wbt\"\n",
    "json_take_off = \"/Users/jeste/Desktop/Clase/TFG/drone_tfg_juanes/configs/reward_package_config/takeoff.json\"\n",
    "json_basic = \"/Users/jeste/Desktop/Clase/TFG/drone_tfg_juanes/configs/reward_package_config/basic_no_roll.json\"\n",
    "json_use_motors = \"/Users/jeste/Desktop/Clase/TFG/drone_tfg_juanes/configs/reward_package_config/motors_use.json\""
   ],
   "metadata": {
    "collapsed": false,
    "ExecuteTime": {
     "end_time": "2025-01-29T11:08:06.653397500Z",
     "start_time": "2025-01-29T11:08:05.389553100Z"
    }
   }
  },
  {
   "cell_type": "code",
   "execution_count": 2,
   "outputs": [],
   "source": [
    "import gymnasium\n",
    "from stable_baselines3.common.env_util import SubprocVecEnv\n",
    "from enviroments_package import RemoveKeyObservationWrapper, ScaleRewardWrapper, ScaleActionWrapper\n",
    "\n",
    "\n",
    "num_envs = 4  # Define el número de entornos que se van a crear\n",
    "\n",
    "def make_env():\n",
    "    def _init():\n",
    "        # Crea el entorno base\n",
    "        env = gymnasium.make('drone_tfg_juanes/Drone-v1', simulation_path=world_dir, reward_json_path=json_use_motors, no_render=False)\n",
    "\n",
    "        # Aplica los wrappers necesarios\n",
    "        env = RemoveKeyObservationWrapper(env, remove_keys=[\"camera\", \"gps\"])\n",
    "        env = ScaleRewardWrapper(env, scale_factor=0.1)\n",
    "        env = ScaleActionWrapper(env, in_low=-1, in_high=1, out_low=0, out_high=576)\n",
    "        return env\n",
    "    return _init\n",
    "\n",
    "\n",
    "env = SubprocVecEnv([make_env() for _ in range(num_envs)])"
   ],
   "metadata": {
    "collapsed": false,
    "ExecuteTime": {
     "end_time": "2025-01-29T11:08:36.798347700Z",
     "start_time": "2025-01-29T11:08:06.656398300Z"
    }
   }
  },
  {
   "cell_type": "code",
   "execution_count": 3,
   "outputs": [],
   "source": [
    "from stable_baselines3.common.callbacks import BaseCallback\n",
    "\n",
    "\n",
    "class TrainingCallback(BaseCallback):\n",
    "    def __init__(self, env, verbose=1):\n",
    "        super(TrainingCallback, self).__init__(verbose)\n",
    "        self.env = env\n",
    "\n",
    "    def _on_step(self) -> bool:\n",
    "        return True\n",
    "\n",
    "    def _on_rollout_start(self) -> None:\n",
    "        self.env.reset()\n",
    "\n",
    "    def _on_training_end(self):\n",
    "        print(\"Entrenamiento finalizado. Cerrando el entorno...\")\n",
    "        self.env.close()\n",
    "\n",
    "callback = TrainingCallback(env=env)"
   ],
   "metadata": {
    "collapsed": false,
    "ExecuteTime": {
     "end_time": "2025-01-29T11:08:36.811841200Z",
     "start_time": "2025-01-29T11:08:36.801484300Z"
    }
   }
  },
  {
   "cell_type": "code",
   "execution_count": 4,
   "outputs": [
    {
     "name": "stdout",
     "output_type": "stream",
     "text": [
      "Logging to ./logs/\n",
      "first train\n",
      "Using cuda device\n"
     ]
    },
    {
     "ename": "EOFError",
     "evalue": "",
     "output_type": "error",
     "traceback": [
      "\u001B[1;31m---------------------------------------------------------------------------\u001B[0m",
      "\u001B[1;31mBrokenPipeError\u001B[0m                           Traceback (most recent call last)",
      "File \u001B[1;32m~\\anaconda3\\lib\\multiprocessing\\connection.py:317\u001B[0m, in \u001B[0;36mPipeConnection._recv_bytes\u001B[1;34m(self, maxsize)\u001B[0m\n\u001B[0;32m    316\u001B[0m \u001B[38;5;28;01mfinally\u001B[39;00m:\n\u001B[1;32m--> 317\u001B[0m     nread, err \u001B[38;5;241m=\u001B[39m \u001B[43mov\u001B[49m\u001B[38;5;241;43m.\u001B[39;49m\u001B[43mGetOverlappedResult\u001B[49m\u001B[43m(\u001B[49m\u001B[38;5;28;43;01mTrue\u001B[39;49;00m\u001B[43m)\u001B[49m\n\u001B[0;32m    318\u001B[0m     \u001B[38;5;28;01mif\u001B[39;00m err \u001B[38;5;241m==\u001B[39m \u001B[38;5;241m0\u001B[39m:\n",
      "\u001B[1;31mBrokenPipeError\u001B[0m: [WinError 109] Ha terminado la canalización",
      "\nDuring handling of the above exception, another exception occurred:\n",
      "\u001B[1;31mEOFError\u001B[0m                                  Traceback (most recent call last)",
      "Input \u001B[1;32mIn [4]\u001B[0m, in \u001B[0;36m<cell line: 12>\u001B[1;34m()\u001B[0m\n\u001B[0;32m     15\u001B[0m     model \u001B[38;5;241m=\u001B[39m PPO(\n\u001B[0;32m     16\u001B[0m         \u001B[38;5;124m\"\u001B[39m\u001B[38;5;124mMultiInputPolicy\u001B[39m\u001B[38;5;124m\"\u001B[39m,\n\u001B[0;32m     17\u001B[0m         env,\n\u001B[1;32m   (...)\u001B[0m\n\u001B[0;32m     22\u001B[0m         ent_coef\u001B[38;5;241m=\u001B[39m\u001B[38;5;241m0.2\u001B[39m       \u001B[38;5;66;03m# Coeficiente de entropía para exploración\u001B[39;00m\n\u001B[0;32m     23\u001B[0m     )\n\u001B[0;32m     24\u001B[0m     model\u001B[38;5;241m.\u001B[39mset_logger(new_logger)\n\u001B[1;32m---> 25\u001B[0m     \u001B[43mmodel\u001B[49m\u001B[38;5;241;43m.\u001B[39;49m\u001B[43mlearn\u001B[49m\u001B[43m(\u001B[49m\u001B[43mtotal_timesteps\u001B[49m\u001B[38;5;241;43m=\u001B[39;49m\u001B[43mtimesteps\u001B[49m\u001B[43m,\u001B[49m\u001B[43m \u001B[49m\u001B[43mcallback\u001B[49m\u001B[38;5;241;43m=\u001B[39;49m\u001B[43mcallback\u001B[49m\u001B[43m)\u001B[49m\n\u001B[0;32m     26\u001B[0m     model\u001B[38;5;241m.\u001B[39msave(\u001B[38;5;124m'\u001B[39m\u001B[38;5;124m./models/ppomodel\u001B[39m\u001B[38;5;124m'\u001B[39m)\n\u001B[0;32m     27\u001B[0m \u001B[38;5;28;01melse\u001B[39;00m:\n",
      "File \u001B[1;32m~\\anaconda3\\lib\\site-packages\\stable_baselines3\\ppo\\ppo.py:315\u001B[0m, in \u001B[0;36mPPO.learn\u001B[1;34m(self, total_timesteps, callback, log_interval, tb_log_name, reset_num_timesteps, progress_bar)\u001B[0m\n\u001B[0;32m    306\u001B[0m \u001B[38;5;28;01mdef\u001B[39;00m \u001B[38;5;21mlearn\u001B[39m(\n\u001B[0;32m    307\u001B[0m     \u001B[38;5;28mself\u001B[39m: SelfPPO,\n\u001B[0;32m    308\u001B[0m     total_timesteps: \u001B[38;5;28mint\u001B[39m,\n\u001B[1;32m   (...)\u001B[0m\n\u001B[0;32m    313\u001B[0m     progress_bar: \u001B[38;5;28mbool\u001B[39m \u001B[38;5;241m=\u001B[39m \u001B[38;5;28;01mFalse\u001B[39;00m,\n\u001B[0;32m    314\u001B[0m ) \u001B[38;5;241m-\u001B[39m\u001B[38;5;241m>\u001B[39m SelfPPO:\n\u001B[1;32m--> 315\u001B[0m     \u001B[38;5;28;01mreturn\u001B[39;00m \u001B[38;5;28;43msuper\u001B[39;49m\u001B[43m(\u001B[49m\u001B[43m)\u001B[49m\u001B[38;5;241;43m.\u001B[39;49m\u001B[43mlearn\u001B[49m\u001B[43m(\u001B[49m\n\u001B[0;32m    316\u001B[0m \u001B[43m        \u001B[49m\u001B[43mtotal_timesteps\u001B[49m\u001B[38;5;241;43m=\u001B[39;49m\u001B[43mtotal_timesteps\u001B[49m\u001B[43m,\u001B[49m\n\u001B[0;32m    317\u001B[0m \u001B[43m        \u001B[49m\u001B[43mcallback\u001B[49m\u001B[38;5;241;43m=\u001B[39;49m\u001B[43mcallback\u001B[49m\u001B[43m,\u001B[49m\n\u001B[0;32m    318\u001B[0m \u001B[43m        \u001B[49m\u001B[43mlog_interval\u001B[49m\u001B[38;5;241;43m=\u001B[39;49m\u001B[43mlog_interval\u001B[49m\u001B[43m,\u001B[49m\n\u001B[0;32m    319\u001B[0m \u001B[43m        \u001B[49m\u001B[43mtb_log_name\u001B[49m\u001B[38;5;241;43m=\u001B[39;49m\u001B[43mtb_log_name\u001B[49m\u001B[43m,\u001B[49m\n\u001B[0;32m    320\u001B[0m \u001B[43m        \u001B[49m\u001B[43mreset_num_timesteps\u001B[49m\u001B[38;5;241;43m=\u001B[39;49m\u001B[43mreset_num_timesteps\u001B[49m\u001B[43m,\u001B[49m\n\u001B[0;32m    321\u001B[0m \u001B[43m        \u001B[49m\u001B[43mprogress_bar\u001B[49m\u001B[38;5;241;43m=\u001B[39;49m\u001B[43mprogress_bar\u001B[49m\u001B[43m,\u001B[49m\n\u001B[0;32m    322\u001B[0m \u001B[43m    \u001B[49m\u001B[43m)\u001B[49m\n",
      "File \u001B[1;32m~\\anaconda3\\lib\\site-packages\\stable_baselines3\\common\\on_policy_algorithm.py:287\u001B[0m, in \u001B[0;36mOnPolicyAlgorithm.learn\u001B[1;34m(self, total_timesteps, callback, log_interval, tb_log_name, reset_num_timesteps, progress_bar)\u001B[0m\n\u001B[0;32m    276\u001B[0m \u001B[38;5;28;01mdef\u001B[39;00m \u001B[38;5;21mlearn\u001B[39m(\n\u001B[0;32m    277\u001B[0m     \u001B[38;5;28mself\u001B[39m: SelfOnPolicyAlgorithm,\n\u001B[0;32m    278\u001B[0m     total_timesteps: \u001B[38;5;28mint\u001B[39m,\n\u001B[1;32m   (...)\u001B[0m\n\u001B[0;32m    283\u001B[0m     progress_bar: \u001B[38;5;28mbool\u001B[39m \u001B[38;5;241m=\u001B[39m \u001B[38;5;28;01mFalse\u001B[39;00m,\n\u001B[0;32m    284\u001B[0m ) \u001B[38;5;241m-\u001B[39m\u001B[38;5;241m>\u001B[39m SelfOnPolicyAlgorithm:\n\u001B[0;32m    285\u001B[0m     iteration \u001B[38;5;241m=\u001B[39m \u001B[38;5;241m0\u001B[39m\n\u001B[1;32m--> 287\u001B[0m     total_timesteps, callback \u001B[38;5;241m=\u001B[39m \u001B[38;5;28;43mself\u001B[39;49m\u001B[38;5;241;43m.\u001B[39;49m\u001B[43m_setup_learn\u001B[49m\u001B[43m(\u001B[49m\n\u001B[0;32m    288\u001B[0m \u001B[43m        \u001B[49m\u001B[43mtotal_timesteps\u001B[49m\u001B[43m,\u001B[49m\n\u001B[0;32m    289\u001B[0m \u001B[43m        \u001B[49m\u001B[43mcallback\u001B[49m\u001B[43m,\u001B[49m\n\u001B[0;32m    290\u001B[0m \u001B[43m        \u001B[49m\u001B[43mreset_num_timesteps\u001B[49m\u001B[43m,\u001B[49m\n\u001B[0;32m    291\u001B[0m \u001B[43m        \u001B[49m\u001B[43mtb_log_name\u001B[49m\u001B[43m,\u001B[49m\n\u001B[0;32m    292\u001B[0m \u001B[43m        \u001B[49m\u001B[43mprogress_bar\u001B[49m\u001B[43m,\u001B[49m\n\u001B[0;32m    293\u001B[0m \u001B[43m    \u001B[49m\u001B[43m)\u001B[49m\n\u001B[0;32m    295\u001B[0m     callback\u001B[38;5;241m.\u001B[39mon_training_start(\u001B[38;5;28mlocals\u001B[39m(), \u001B[38;5;28mglobals\u001B[39m())\n\u001B[0;32m    297\u001B[0m     \u001B[38;5;28;01massert\u001B[39;00m \u001B[38;5;28mself\u001B[39m\u001B[38;5;241m.\u001B[39menv \u001B[38;5;129;01mis\u001B[39;00m \u001B[38;5;129;01mnot\u001B[39;00m \u001B[38;5;28;01mNone\u001B[39;00m\n",
      "File \u001B[1;32m~\\anaconda3\\lib\\site-packages\\stable_baselines3\\common\\base_class.py:423\u001B[0m, in \u001B[0;36mBaseAlgorithm._setup_learn\u001B[1;34m(self, total_timesteps, callback, reset_num_timesteps, tb_log_name, progress_bar)\u001B[0m\n\u001B[0;32m    421\u001B[0m \u001B[38;5;28;01mif\u001B[39;00m reset_num_timesteps \u001B[38;5;129;01mor\u001B[39;00m \u001B[38;5;28mself\u001B[39m\u001B[38;5;241m.\u001B[39m_last_obs \u001B[38;5;129;01mis\u001B[39;00m \u001B[38;5;28;01mNone\u001B[39;00m:\n\u001B[0;32m    422\u001B[0m     \u001B[38;5;28;01massert\u001B[39;00m \u001B[38;5;28mself\u001B[39m\u001B[38;5;241m.\u001B[39menv \u001B[38;5;129;01mis\u001B[39;00m \u001B[38;5;129;01mnot\u001B[39;00m \u001B[38;5;28;01mNone\u001B[39;00m\n\u001B[1;32m--> 423\u001B[0m     \u001B[38;5;28mself\u001B[39m\u001B[38;5;241m.\u001B[39m_last_obs \u001B[38;5;241m=\u001B[39m \u001B[38;5;28;43mself\u001B[39;49m\u001B[38;5;241;43m.\u001B[39;49m\u001B[43menv\u001B[49m\u001B[38;5;241;43m.\u001B[39;49m\u001B[43mreset\u001B[49m\u001B[43m(\u001B[49m\u001B[43m)\u001B[49m  \u001B[38;5;66;03m# type: ignore[assignment]\u001B[39;00m\n\u001B[0;32m    424\u001B[0m     \u001B[38;5;28mself\u001B[39m\u001B[38;5;241m.\u001B[39m_last_episode_starts \u001B[38;5;241m=\u001B[39m np\u001B[38;5;241m.\u001B[39mones((\u001B[38;5;28mself\u001B[39m\u001B[38;5;241m.\u001B[39menv\u001B[38;5;241m.\u001B[39mnum_envs,), dtype\u001B[38;5;241m=\u001B[39m\u001B[38;5;28mbool\u001B[39m)\n\u001B[0;32m    425\u001B[0m     \u001B[38;5;66;03m# Retrieve unnormalized observation for saving into the buffer\u001B[39;00m\n",
      "File \u001B[1;32m~\\anaconda3\\lib\\site-packages\\stable_baselines3\\common\\vec_env\\subproc_vec_env.py:137\u001B[0m, in \u001B[0;36mSubprocVecEnv.reset\u001B[1;34m(self)\u001B[0m\n\u001B[0;32m    135\u001B[0m \u001B[38;5;28;01mfor\u001B[39;00m env_idx, remote \u001B[38;5;129;01min\u001B[39;00m \u001B[38;5;28menumerate\u001B[39m(\u001B[38;5;28mself\u001B[39m\u001B[38;5;241m.\u001B[39mremotes):\n\u001B[0;32m    136\u001B[0m     remote\u001B[38;5;241m.\u001B[39msend((\u001B[38;5;124m\"\u001B[39m\u001B[38;5;124mreset\u001B[39m\u001B[38;5;124m\"\u001B[39m, (\u001B[38;5;28mself\u001B[39m\u001B[38;5;241m.\u001B[39m_seeds[env_idx], \u001B[38;5;28mself\u001B[39m\u001B[38;5;241m.\u001B[39m_options[env_idx])))\n\u001B[1;32m--> 137\u001B[0m results \u001B[38;5;241m=\u001B[39m [remote\u001B[38;5;241m.\u001B[39mrecv() \u001B[38;5;28;01mfor\u001B[39;00m remote \u001B[38;5;129;01min\u001B[39;00m \u001B[38;5;28mself\u001B[39m\u001B[38;5;241m.\u001B[39mremotes]\n\u001B[0;32m    138\u001B[0m obs, \u001B[38;5;28mself\u001B[39m\u001B[38;5;241m.\u001B[39mreset_infos \u001B[38;5;241m=\u001B[39m \u001B[38;5;28mzip\u001B[39m(\u001B[38;5;241m*\u001B[39mresults)  \u001B[38;5;66;03m# type: ignore[assignment]\u001B[39;00m\n\u001B[0;32m    139\u001B[0m \u001B[38;5;66;03m# Seeds and options are only used once\u001B[39;00m\n",
      "File \u001B[1;32m~\\anaconda3\\lib\\site-packages\\stable_baselines3\\common\\vec_env\\subproc_vec_env.py:137\u001B[0m, in \u001B[0;36m<listcomp>\u001B[1;34m(.0)\u001B[0m\n\u001B[0;32m    135\u001B[0m \u001B[38;5;28;01mfor\u001B[39;00m env_idx, remote \u001B[38;5;129;01min\u001B[39;00m \u001B[38;5;28menumerate\u001B[39m(\u001B[38;5;28mself\u001B[39m\u001B[38;5;241m.\u001B[39mremotes):\n\u001B[0;32m    136\u001B[0m     remote\u001B[38;5;241m.\u001B[39msend((\u001B[38;5;124m\"\u001B[39m\u001B[38;5;124mreset\u001B[39m\u001B[38;5;124m\"\u001B[39m, (\u001B[38;5;28mself\u001B[39m\u001B[38;5;241m.\u001B[39m_seeds[env_idx], \u001B[38;5;28mself\u001B[39m\u001B[38;5;241m.\u001B[39m_options[env_idx])))\n\u001B[1;32m--> 137\u001B[0m results \u001B[38;5;241m=\u001B[39m [\u001B[43mremote\u001B[49m\u001B[38;5;241;43m.\u001B[39;49m\u001B[43mrecv\u001B[49m\u001B[43m(\u001B[49m\u001B[43m)\u001B[49m \u001B[38;5;28;01mfor\u001B[39;00m remote \u001B[38;5;129;01min\u001B[39;00m \u001B[38;5;28mself\u001B[39m\u001B[38;5;241m.\u001B[39mremotes]\n\u001B[0;32m    138\u001B[0m obs, \u001B[38;5;28mself\u001B[39m\u001B[38;5;241m.\u001B[39mreset_infos \u001B[38;5;241m=\u001B[39m \u001B[38;5;28mzip\u001B[39m(\u001B[38;5;241m*\u001B[39mresults)  \u001B[38;5;66;03m# type: ignore[assignment]\u001B[39;00m\n\u001B[0;32m    139\u001B[0m \u001B[38;5;66;03m# Seeds and options are only used once\u001B[39;00m\n",
      "File \u001B[1;32m~\\anaconda3\\lib\\multiprocessing\\connection.py:255\u001B[0m, in \u001B[0;36m_ConnectionBase.recv\u001B[1;34m(self)\u001B[0m\n\u001B[0;32m    253\u001B[0m \u001B[38;5;28mself\u001B[39m\u001B[38;5;241m.\u001B[39m_check_closed()\n\u001B[0;32m    254\u001B[0m \u001B[38;5;28mself\u001B[39m\u001B[38;5;241m.\u001B[39m_check_readable()\n\u001B[1;32m--> 255\u001B[0m buf \u001B[38;5;241m=\u001B[39m \u001B[38;5;28;43mself\u001B[39;49m\u001B[38;5;241;43m.\u001B[39;49m\u001B[43m_recv_bytes\u001B[49m\u001B[43m(\u001B[49m\u001B[43m)\u001B[49m\n\u001B[0;32m    256\u001B[0m \u001B[38;5;28;01mreturn\u001B[39;00m _ForkingPickler\u001B[38;5;241m.\u001B[39mloads(buf\u001B[38;5;241m.\u001B[39mgetbuffer())\n",
      "File \u001B[1;32m~\\anaconda3\\lib\\multiprocessing\\connection.py:326\u001B[0m, in \u001B[0;36mPipeConnection._recv_bytes\u001B[1;34m(self, maxsize)\u001B[0m\n\u001B[0;32m    324\u001B[0m \u001B[38;5;28;01mexcept\u001B[39;00m \u001B[38;5;167;01mOSError\u001B[39;00m \u001B[38;5;28;01mas\u001B[39;00m e:\n\u001B[0;32m    325\u001B[0m     \u001B[38;5;28;01mif\u001B[39;00m e\u001B[38;5;241m.\u001B[39mwinerror \u001B[38;5;241m==\u001B[39m _winapi\u001B[38;5;241m.\u001B[39mERROR_BROKEN_PIPE:\n\u001B[1;32m--> 326\u001B[0m         \u001B[38;5;28;01mraise\u001B[39;00m \u001B[38;5;167;01mEOFError\u001B[39;00m\n\u001B[0;32m    327\u001B[0m     \u001B[38;5;28;01melse\u001B[39;00m:\n\u001B[0;32m    328\u001B[0m         \u001B[38;5;28;01mraise\u001B[39;00m\n",
      "\u001B[1;31mEOFError\u001B[0m: "
     ]
    }
   ],
   "source": [
    "import os\n",
    "from stable_baselines3 import PPO\n",
    "from stable_baselines3.common.logger import configure\n",
    "\n",
    "\n",
    "timesteps = 1024#40960 #define los asos totales que se usarán para entrenar al modelo\n",
    "log_dir = \"./logs/\"\n",
    "os.makedirs(log_dir, exist_ok=True)\n",
    "\n",
    "new_logger = configure(log_dir, [\"stdout\", \"csv\", \"log\"])\n",
    "\n",
    "if not os.path.exists('./models/ppomodel.zip'):\n",
    "    print(\"first train\")\n",
    "\n",
    "    model = PPO(\n",
    "        \"MultiInputPolicy\",\n",
    "        env,\n",
    "        verbose=1,          # Si quiero ver las acciones por terminal\n",
    "        n_steps=1024,       # Controla el buffer de experiencias para actualizar la política\n",
    "        batch_size=64,      # Tamaño del lote, separa el buffer de experiencias en paquetes de este tamaño\n",
    "        learning_rate=1e-3, # Tasa de aprendizaje\n",
    "        ent_coef=0.2       # Coeficiente de entropía para exploración\n",
    "    )\n",
    "    model.set_logger(new_logger)\n",
    "    model.learn(total_timesteps=timesteps, callback=callback)\n",
    "    model.save('./models/ppomodel')\n",
    "else:\n",
    "    print(\"retrainning\")\n",
    "\n",
    "    model = PPO.load(\"./models/ppomodel.zip\", env=env)\n",
    "\n",
    "    model.set_logger(new_logger)\n",
    "\n",
    "    model.learn(total_timesteps=timesteps, callback=callback)\n",
    "    model.save(path=\"./models/ppomodel\")"
   ],
   "metadata": {
    "collapsed": false,
    "ExecuteTime": {
     "end_time": "2025-01-29T11:10:00.159722300Z",
     "start_time": "2025-01-29T11:08:36.817826900Z"
    }
   }
  },
  {
   "cell_type": "code",
   "execution_count": null,
   "outputs": [],
   "source": [
    "import os\n",
    "import shutil\n",
    "from datetime import datetime\n",
    "\n",
    "\n",
    "def move_and_rename_csv(src_dir, dst_dir, new_name):\n",
    "    # Buscar el archivo CSV en el directorio fuente\n",
    "    csv_files = [f for f in os.listdir(src_dir) if f.endswith('.csv')]\n",
    "\n",
    "    # Verificar si hay algún archivo CSV en el directorio de origen\n",
    "    if not csv_files:\n",
    "        print(\"No se encontró ningún archivo CSV en el directorio de origen.\")\n",
    "        return\n",
    "\n",
    "    # Tomar el primer archivo CSV encontrado\n",
    "    csv_file = csv_files[0]\n",
    "    src_path = os.path.join(src_dir, csv_file)\n",
    "    dst_path = os.path.join(dst_dir, new_name)\n",
    "\n",
    "    # Mover y renombrar el archivo\n",
    "    shutil.copy2(src_path, dst_path)\n",
    "    print(f\"Archivo copiado y renombrado a {dst_path}\")\n",
    "\n",
    "\n",
    "src_directory = log_dir\n",
    "dst_directory = './data_collected/'\n",
    "new_filename = f'ppo{datetime.now().strftime(\"%Y%m%d_%H%M%S\")}.csv'\n",
    "\n",
    "move_and_rename_csv(src_directory, dst_directory, new_filename)"
   ],
   "metadata": {
    "collapsed": false,
    "ExecuteTime": {
     "start_time": "2025-01-29T11:10:00.158719800Z"
    }
   }
  },
  {
   "cell_type": "markdown",
   "source": [
    "init = make_env()\n",
    "env = init()\n",
    "observation, _ = env.reset()\n",
    "\n",
    "for i in range(100):\n",
    "    action, _states = model.predict(observation, deterministic=True)\n",
    "    observation, reward, terminated, truncated, _ = env.step(action)\n",
    "\n",
    "    if terminated:\n",
    "        observation, _ = env.reset()\n",
    "\n",
    "env.close()"
   ],
   "metadata": {
    "collapsed": false
   }
  }
 ],
 "metadata": {
  "kernelspec": {
   "display_name": "Python 3",
   "language": "python",
   "name": "python3"
  },
  "language_info": {
   "codemirror_mode": {
    "name": "ipython",
    "version": 2
   },
   "file_extension": ".py",
   "mimetype": "text/x-python",
   "name": "python",
   "nbconvert_exporter": "python",
   "pygments_lexer": "ipython2",
   "version": "2.7.6"
  }
 },
 "nbformat": 4,
 "nbformat_minor": 0
}
