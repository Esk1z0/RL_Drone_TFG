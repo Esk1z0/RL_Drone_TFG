{
 "cells": [
  {
   "cell_type": "code",
   "execution_count": 1,
   "outputs": [
    {
     "name": "stdout",
     "output_type": "stream",
     "text": [
      "Archivo de contador ya existe en C:\\Users\\jeste\\Desktop\\Clase\\TFG\\drone_tfg_juanes\\simulation_package\\controllers\\xyz_controller\\drone_library\\config\\instance_counter.txt.\n"
     ]
    }
   ],
   "source": [
    "import enviroments_package\n",
    "import gymnasium\n",
    "\n",
    "world_dir = \"/Users/jeste/Desktop/Clase/TFG/drone_tfg_juanes/simulation_package/worlds/my_frst_webots_world.wbt\"\n",
    "json_take_off = \"/Users/jeste/Desktop/Clase/TFG/drone_tfg_juanes/configs/reward_package_config/takeoff.json\""
   ],
   "metadata": {
    "collapsed": false
   }
  },
  {
   "cell_type": "code",
   "execution_count": null,
   "outputs": [],
   "source": [
    "from enviroments_package import RemoveKeyObservationWrapper\n",
    "\n",
    "env = gymnasium.make('drone_tfg_juanes/Drone-v1', simulation_path = world_dir, reward_json_path = json_take_off)\n",
    "\n",
    "env = RemoveKeyObservationWrapper(env, remove_key=[\"camera\", \"gps\"])"
   ],
   "metadata": {
    "collapsed": false
   }
  },
  {
   "cell_type": "code",
   "execution_count": 2,
   "outputs": [
    {
     "name": "stdout",
     "output_type": "stream",
     "text": [
      "Using cuda device\n",
      "Wrapping the env with a `Monitor` wrapper\n",
      "Wrapping the env in a DummyVecEnv.\n",
      "WEBOTS Result: INFO: xyz_controller: Starting controller: python.exe -u xyz_controller.py\n",
      "Archivo de contador ya existe en C:\\Users\\jeste\\Desktop\\Clase\\TFG\\drone_tfg_juanes\\simulation_package\\controllers\\xyz_controller\\drone_library\\config\\instance_counter.txt.\n",
      "Nombres generados: request_memory_12, response_memory_12\n",
      "request_memory_12 response_memory_12\n",
      "Simulation Starting\n",
      "INFO: xyz_controller: Terminating.\n",
      "\n",
      "Result Code: 0\n"
     ]
    },
    {
     "ename": "Exception",
     "evalue": "crashed",
     "output_type": "error",
     "traceback": [
      "\u001B[1;31m---------------------------------------------------------------------------\u001B[0m",
      "\u001B[1;31mException\u001B[0m                                 Traceback (most recent call last)",
      "Input \u001B[1;32mIn [2]\u001B[0m, in \u001B[0;36m<cell line: 7>\u001B[1;34m()\u001B[0m\n\u001B[0;32m      3\u001B[0m \u001B[38;5;28;01mfrom\u001B[39;00m \u001B[38;5;21;01mstable_baselines3\u001B[39;00m \u001B[38;5;28;01mimport\u001B[39;00m A2C\n\u001B[0;32m      6\u001B[0m model \u001B[38;5;241m=\u001B[39m PPO(\u001B[38;5;124m\"\u001B[39m\u001B[38;5;124mMultiInputPolicy\u001B[39m\u001B[38;5;124m\"\u001B[39m, env, verbose\u001B[38;5;241m=\u001B[39m\u001B[38;5;241m1\u001B[39m)\n\u001B[1;32m----> 7\u001B[0m \u001B[43mmodel\u001B[49m\u001B[38;5;241;43m.\u001B[39;49m\u001B[43mlearn\u001B[49m\u001B[43m(\u001B[49m\u001B[43mtotal_timesteps\u001B[49m\u001B[38;5;241;43m=\u001B[39;49m\u001B[38;5;241;43m50\u001B[39;49m\u001B[43m,\u001B[49m\u001B[43m \u001B[49m\u001B[43mprogress_bar\u001B[49m\u001B[38;5;241;43m=\u001B[39;49m\u001B[38;5;28;43;01mTrue\u001B[39;49;00m\u001B[43m)\u001B[49m\n",
      "File \u001B[1;32m~\\anaconda3\\lib\\site-packages\\stable_baselines3\\ppo\\ppo.py:315\u001B[0m, in \u001B[0;36mPPO.learn\u001B[1;34m(self, total_timesteps, callback, log_interval, tb_log_name, reset_num_timesteps, progress_bar)\u001B[0m\n\u001B[0;32m    306\u001B[0m \u001B[38;5;28;01mdef\u001B[39;00m \u001B[38;5;21mlearn\u001B[39m(\n\u001B[0;32m    307\u001B[0m     \u001B[38;5;28mself\u001B[39m: SelfPPO,\n\u001B[0;32m    308\u001B[0m     total_timesteps: \u001B[38;5;28mint\u001B[39m,\n\u001B[1;32m   (...)\u001B[0m\n\u001B[0;32m    313\u001B[0m     progress_bar: \u001B[38;5;28mbool\u001B[39m \u001B[38;5;241m=\u001B[39m \u001B[38;5;28;01mFalse\u001B[39;00m,\n\u001B[0;32m    314\u001B[0m ) \u001B[38;5;241m-\u001B[39m\u001B[38;5;241m>\u001B[39m SelfPPO:\n\u001B[1;32m--> 315\u001B[0m     \u001B[38;5;28;01mreturn\u001B[39;00m \u001B[38;5;28;43msuper\u001B[39;49m\u001B[43m(\u001B[49m\u001B[43m)\u001B[49m\u001B[38;5;241;43m.\u001B[39;49m\u001B[43mlearn\u001B[49m\u001B[43m(\u001B[49m\n\u001B[0;32m    316\u001B[0m \u001B[43m        \u001B[49m\u001B[43mtotal_timesteps\u001B[49m\u001B[38;5;241;43m=\u001B[39;49m\u001B[43mtotal_timesteps\u001B[49m\u001B[43m,\u001B[49m\n\u001B[0;32m    317\u001B[0m \u001B[43m        \u001B[49m\u001B[43mcallback\u001B[49m\u001B[38;5;241;43m=\u001B[39;49m\u001B[43mcallback\u001B[49m\u001B[43m,\u001B[49m\n\u001B[0;32m    318\u001B[0m \u001B[43m        \u001B[49m\u001B[43mlog_interval\u001B[49m\u001B[38;5;241;43m=\u001B[39;49m\u001B[43mlog_interval\u001B[49m\u001B[43m,\u001B[49m\n\u001B[0;32m    319\u001B[0m \u001B[43m        \u001B[49m\u001B[43mtb_log_name\u001B[49m\u001B[38;5;241;43m=\u001B[39;49m\u001B[43mtb_log_name\u001B[49m\u001B[43m,\u001B[49m\n\u001B[0;32m    320\u001B[0m \u001B[43m        \u001B[49m\u001B[43mreset_num_timesteps\u001B[49m\u001B[38;5;241;43m=\u001B[39;49m\u001B[43mreset_num_timesteps\u001B[49m\u001B[43m,\u001B[49m\n\u001B[0;32m    321\u001B[0m \u001B[43m        \u001B[49m\u001B[43mprogress_bar\u001B[49m\u001B[38;5;241;43m=\u001B[39;49m\u001B[43mprogress_bar\u001B[49m\u001B[43m,\u001B[49m\n\u001B[0;32m    322\u001B[0m \u001B[43m    \u001B[49m\u001B[43m)\u001B[49m\n",
      "File \u001B[1;32m~\\anaconda3\\lib\\site-packages\\stable_baselines3\\common\\on_policy_algorithm.py:287\u001B[0m, in \u001B[0;36mOnPolicyAlgorithm.learn\u001B[1;34m(self, total_timesteps, callback, log_interval, tb_log_name, reset_num_timesteps, progress_bar)\u001B[0m\n\u001B[0;32m    276\u001B[0m \u001B[38;5;28;01mdef\u001B[39;00m \u001B[38;5;21mlearn\u001B[39m(\n\u001B[0;32m    277\u001B[0m     \u001B[38;5;28mself\u001B[39m: SelfOnPolicyAlgorithm,\n\u001B[0;32m    278\u001B[0m     total_timesteps: \u001B[38;5;28mint\u001B[39m,\n\u001B[1;32m   (...)\u001B[0m\n\u001B[0;32m    283\u001B[0m     progress_bar: \u001B[38;5;28mbool\u001B[39m \u001B[38;5;241m=\u001B[39m \u001B[38;5;28;01mFalse\u001B[39;00m,\n\u001B[0;32m    284\u001B[0m ) \u001B[38;5;241m-\u001B[39m\u001B[38;5;241m>\u001B[39m SelfOnPolicyAlgorithm:\n\u001B[0;32m    285\u001B[0m     iteration \u001B[38;5;241m=\u001B[39m \u001B[38;5;241m0\u001B[39m\n\u001B[1;32m--> 287\u001B[0m     total_timesteps, callback \u001B[38;5;241m=\u001B[39m \u001B[38;5;28;43mself\u001B[39;49m\u001B[38;5;241;43m.\u001B[39;49m\u001B[43m_setup_learn\u001B[49m\u001B[43m(\u001B[49m\n\u001B[0;32m    288\u001B[0m \u001B[43m        \u001B[49m\u001B[43mtotal_timesteps\u001B[49m\u001B[43m,\u001B[49m\n\u001B[0;32m    289\u001B[0m \u001B[43m        \u001B[49m\u001B[43mcallback\u001B[49m\u001B[43m,\u001B[49m\n\u001B[0;32m    290\u001B[0m \u001B[43m        \u001B[49m\u001B[43mreset_num_timesteps\u001B[49m\u001B[43m,\u001B[49m\n\u001B[0;32m    291\u001B[0m \u001B[43m        \u001B[49m\u001B[43mtb_log_name\u001B[49m\u001B[43m,\u001B[49m\n\u001B[0;32m    292\u001B[0m \u001B[43m        \u001B[49m\u001B[43mprogress_bar\u001B[49m\u001B[43m,\u001B[49m\n\u001B[0;32m    293\u001B[0m \u001B[43m    \u001B[49m\u001B[43m)\u001B[49m\n\u001B[0;32m    295\u001B[0m     callback\u001B[38;5;241m.\u001B[39mon_training_start(\u001B[38;5;28mlocals\u001B[39m(), \u001B[38;5;28mglobals\u001B[39m())\n\u001B[0;32m    297\u001B[0m     \u001B[38;5;28;01massert\u001B[39;00m \u001B[38;5;28mself\u001B[39m\u001B[38;5;241m.\u001B[39menv \u001B[38;5;129;01mis\u001B[39;00m \u001B[38;5;129;01mnot\u001B[39;00m \u001B[38;5;28;01mNone\u001B[39;00m\n",
      "File \u001B[1;32m~\\anaconda3\\lib\\site-packages\\stable_baselines3\\common\\base_class.py:423\u001B[0m, in \u001B[0;36mBaseAlgorithm._setup_learn\u001B[1;34m(self, total_timesteps, callback, reset_num_timesteps, tb_log_name, progress_bar)\u001B[0m\n\u001B[0;32m    421\u001B[0m \u001B[38;5;28;01mif\u001B[39;00m reset_num_timesteps \u001B[38;5;129;01mor\u001B[39;00m \u001B[38;5;28mself\u001B[39m\u001B[38;5;241m.\u001B[39m_last_obs \u001B[38;5;129;01mis\u001B[39;00m \u001B[38;5;28;01mNone\u001B[39;00m:\n\u001B[0;32m    422\u001B[0m     \u001B[38;5;28;01massert\u001B[39;00m \u001B[38;5;28mself\u001B[39m\u001B[38;5;241m.\u001B[39menv \u001B[38;5;129;01mis\u001B[39;00m \u001B[38;5;129;01mnot\u001B[39;00m \u001B[38;5;28;01mNone\u001B[39;00m\n\u001B[1;32m--> 423\u001B[0m     \u001B[38;5;28mself\u001B[39m\u001B[38;5;241m.\u001B[39m_last_obs \u001B[38;5;241m=\u001B[39m \u001B[38;5;28;43mself\u001B[39;49m\u001B[38;5;241;43m.\u001B[39;49m\u001B[43menv\u001B[49m\u001B[38;5;241;43m.\u001B[39;49m\u001B[43mreset\u001B[49m\u001B[43m(\u001B[49m\u001B[43m)\u001B[49m  \u001B[38;5;66;03m# type: ignore[assignment]\u001B[39;00m\n\u001B[0;32m    424\u001B[0m     \u001B[38;5;28mself\u001B[39m\u001B[38;5;241m.\u001B[39m_last_episode_starts \u001B[38;5;241m=\u001B[39m np\u001B[38;5;241m.\u001B[39mones((\u001B[38;5;28mself\u001B[39m\u001B[38;5;241m.\u001B[39menv\u001B[38;5;241m.\u001B[39mnum_envs,), dtype\u001B[38;5;241m=\u001B[39m\u001B[38;5;28mbool\u001B[39m)\n\u001B[0;32m    425\u001B[0m     \u001B[38;5;66;03m# Retrieve unnormalized observation for saving into the buffer\u001B[39;00m\n",
      "File \u001B[1;32m~\\anaconda3\\lib\\site-packages\\stable_baselines3\\common\\vec_env\\dummy_vec_env.py:77\u001B[0m, in \u001B[0;36mDummyVecEnv.reset\u001B[1;34m(self)\u001B[0m\n\u001B[0;32m     75\u001B[0m \u001B[38;5;28;01mfor\u001B[39;00m env_idx \u001B[38;5;129;01min\u001B[39;00m \u001B[38;5;28mrange\u001B[39m(\u001B[38;5;28mself\u001B[39m\u001B[38;5;241m.\u001B[39mnum_envs):\n\u001B[0;32m     76\u001B[0m     maybe_options \u001B[38;5;241m=\u001B[39m {\u001B[38;5;124m\"\u001B[39m\u001B[38;5;124moptions\u001B[39m\u001B[38;5;124m\"\u001B[39m: \u001B[38;5;28mself\u001B[39m\u001B[38;5;241m.\u001B[39m_options[env_idx]} \u001B[38;5;28;01mif\u001B[39;00m \u001B[38;5;28mself\u001B[39m\u001B[38;5;241m.\u001B[39m_options[env_idx] \u001B[38;5;28;01melse\u001B[39;00m {}\n\u001B[1;32m---> 77\u001B[0m     obs, \u001B[38;5;28mself\u001B[39m\u001B[38;5;241m.\u001B[39mreset_infos[env_idx] \u001B[38;5;241m=\u001B[39m \u001B[38;5;28mself\u001B[39m\u001B[38;5;241m.\u001B[39menvs[env_idx]\u001B[38;5;241m.\u001B[39mreset(seed\u001B[38;5;241m=\u001B[39m\u001B[38;5;28mself\u001B[39m\u001B[38;5;241m.\u001B[39m_seeds[env_idx], \u001B[38;5;241m*\u001B[39m\u001B[38;5;241m*\u001B[39mmaybe_options)\n\u001B[0;32m     78\u001B[0m     \u001B[38;5;28mself\u001B[39m\u001B[38;5;241m.\u001B[39m_save_obs(env_idx, obs)\n\u001B[0;32m     79\u001B[0m \u001B[38;5;66;03m# Seeds and options are only used once\u001B[39;00m\n",
      "File \u001B[1;32m~\\anaconda3\\lib\\site-packages\\stable_baselines3\\common\\monitor.py:83\u001B[0m, in \u001B[0;36mMonitor.reset\u001B[1;34m(self, **kwargs)\u001B[0m\n\u001B[0;32m     81\u001B[0m         \u001B[38;5;28;01mraise\u001B[39;00m \u001B[38;5;167;01mValueError\u001B[39;00m(\u001B[38;5;124mf\u001B[39m\u001B[38;5;124m\"\u001B[39m\u001B[38;5;124mExpected you to pass keyword argument \u001B[39m\u001B[38;5;132;01m{\u001B[39;00mkey\u001B[38;5;132;01m}\u001B[39;00m\u001B[38;5;124m into reset\u001B[39m\u001B[38;5;124m\"\u001B[39m)\n\u001B[0;32m     82\u001B[0m     \u001B[38;5;28mself\u001B[39m\u001B[38;5;241m.\u001B[39mcurrent_reset_info[key] \u001B[38;5;241m=\u001B[39m value\n\u001B[1;32m---> 83\u001B[0m \u001B[38;5;28;01mreturn\u001B[39;00m \u001B[38;5;28mself\u001B[39m\u001B[38;5;241m.\u001B[39menv\u001B[38;5;241m.\u001B[39mreset(\u001B[38;5;241m*\u001B[39m\u001B[38;5;241m*\u001B[39mkwargs)\n",
      "File \u001B[1;32m~\\anaconda3\\lib\\site-packages\\gymnasium\\core.py:515\u001B[0m, in \u001B[0;36mObservationWrapper.reset\u001B[1;34m(self, seed, options)\u001B[0m\n\u001B[0;32m    511\u001B[0m \u001B[38;5;28;01mdef\u001B[39;00m \u001B[38;5;21mreset\u001B[39m(\n\u001B[0;32m    512\u001B[0m     \u001B[38;5;28mself\u001B[39m, \u001B[38;5;241m*\u001B[39m, seed: \u001B[38;5;28mint\u001B[39m \u001B[38;5;241m|\u001B[39m \u001B[38;5;28;01mNone\u001B[39;00m \u001B[38;5;241m=\u001B[39m \u001B[38;5;28;01mNone\u001B[39;00m, options: \u001B[38;5;28mdict\u001B[39m[\u001B[38;5;28mstr\u001B[39m, Any] \u001B[38;5;241m|\u001B[39m \u001B[38;5;28;01mNone\u001B[39;00m \u001B[38;5;241m=\u001B[39m \u001B[38;5;28;01mNone\u001B[39;00m\n\u001B[0;32m    513\u001B[0m ) \u001B[38;5;241m-\u001B[39m\u001B[38;5;241m>\u001B[39m \u001B[38;5;28mtuple\u001B[39m[WrapperObsType, \u001B[38;5;28mdict\u001B[39m[\u001B[38;5;28mstr\u001B[39m, Any]]:\n\u001B[0;32m    514\u001B[0m \u001B[38;5;250m    \u001B[39m\u001B[38;5;124;03m\"\"\"Modifies the :attr:`env` after calling :meth:`reset`, returning a modified observation using :meth:`self.observation`.\"\"\"\u001B[39;00m\n\u001B[1;32m--> 515\u001B[0m     obs, info \u001B[38;5;241m=\u001B[39m \u001B[38;5;28;43mself\u001B[39;49m\u001B[38;5;241;43m.\u001B[39;49m\u001B[43menv\u001B[49m\u001B[38;5;241;43m.\u001B[39;49m\u001B[43mreset\u001B[49m\u001B[43m(\u001B[49m\u001B[43mseed\u001B[49m\u001B[38;5;241;43m=\u001B[39;49m\u001B[43mseed\u001B[49m\u001B[43m,\u001B[49m\u001B[43m \u001B[49m\u001B[43moptions\u001B[49m\u001B[38;5;241;43m=\u001B[39;49m\u001B[43moptions\u001B[49m\u001B[43m)\u001B[49m\n\u001B[0;32m    516\u001B[0m     \u001B[38;5;28;01mreturn\u001B[39;00m \u001B[38;5;28mself\u001B[39m\u001B[38;5;241m.\u001B[39mobservation(obs), info\n",
      "File \u001B[1;32m~\\anaconda3\\lib\\site-packages\\gymnasium\\wrappers\\time_limit.py:75\u001B[0m, in \u001B[0;36mTimeLimit.reset\u001B[1;34m(self, **kwargs)\u001B[0m\n\u001B[0;32m     66\u001B[0m \u001B[38;5;250m\u001B[39m\u001B[38;5;124;03m\"\"\"Resets the environment with :param:`**kwargs` and sets the number of steps elapsed to zero.\u001B[39;00m\n\u001B[0;32m     67\u001B[0m \n\u001B[0;32m     68\u001B[0m \u001B[38;5;124;03mArgs:\u001B[39;00m\n\u001B[1;32m   (...)\u001B[0m\n\u001B[0;32m     72\u001B[0m \u001B[38;5;124;03m    The reset environment\u001B[39;00m\n\u001B[0;32m     73\u001B[0m \u001B[38;5;124;03m\"\"\"\u001B[39;00m\n\u001B[0;32m     74\u001B[0m \u001B[38;5;28mself\u001B[39m\u001B[38;5;241m.\u001B[39m_elapsed_steps \u001B[38;5;241m=\u001B[39m \u001B[38;5;241m0\u001B[39m\n\u001B[1;32m---> 75\u001B[0m \u001B[38;5;28;01mreturn\u001B[39;00m \u001B[38;5;28mself\u001B[39m\u001B[38;5;241m.\u001B[39menv\u001B[38;5;241m.\u001B[39mreset(\u001B[38;5;241m*\u001B[39m\u001B[38;5;241m*\u001B[39mkwargs)\n",
      "File \u001B[1;32m~\\anaconda3\\lib\\site-packages\\gymnasium\\wrappers\\order_enforcing.py:61\u001B[0m, in \u001B[0;36mOrderEnforcing.reset\u001B[1;34m(self, **kwargs)\u001B[0m\n\u001B[0;32m     59\u001B[0m \u001B[38;5;250m\u001B[39m\u001B[38;5;124;03m\"\"\"Resets the environment with `kwargs`.\"\"\"\u001B[39;00m\n\u001B[0;32m     60\u001B[0m \u001B[38;5;28mself\u001B[39m\u001B[38;5;241m.\u001B[39m_has_reset \u001B[38;5;241m=\u001B[39m \u001B[38;5;28;01mTrue\u001B[39;00m\n\u001B[1;32m---> 61\u001B[0m \u001B[38;5;28;01mreturn\u001B[39;00m \u001B[38;5;28mself\u001B[39m\u001B[38;5;241m.\u001B[39menv\u001B[38;5;241m.\u001B[39mreset(\u001B[38;5;241m*\u001B[39m\u001B[38;5;241m*\u001B[39mkwargs)\n",
      "File \u001B[1;32m~\\anaconda3\\lib\\site-packages\\gymnasium\\wrappers\\env_checker.py:57\u001B[0m, in \u001B[0;36mPassiveEnvChecker.reset\u001B[1;34m(self, **kwargs)\u001B[0m\n\u001B[0;32m     55\u001B[0m \u001B[38;5;28;01mif\u001B[39;00m \u001B[38;5;129;01mnot\u001B[39;00m \u001B[38;5;28mself\u001B[39m\u001B[38;5;241m.\u001B[39mchecked_reset:\n\u001B[0;32m     56\u001B[0m     \u001B[38;5;28mself\u001B[39m\u001B[38;5;241m.\u001B[39mchecked_reset \u001B[38;5;241m=\u001B[39m \u001B[38;5;28;01mTrue\u001B[39;00m\n\u001B[1;32m---> 57\u001B[0m     \u001B[38;5;28;01mreturn\u001B[39;00m env_reset_passive_checker(\u001B[38;5;28mself\u001B[39m\u001B[38;5;241m.\u001B[39menv, \u001B[38;5;241m*\u001B[39m\u001B[38;5;241m*\u001B[39mkwargs)\n\u001B[0;32m     58\u001B[0m \u001B[38;5;28;01melse\u001B[39;00m:\n\u001B[0;32m     59\u001B[0m     \u001B[38;5;28;01mreturn\u001B[39;00m \u001B[38;5;28mself\u001B[39m\u001B[38;5;241m.\u001B[39menv\u001B[38;5;241m.\u001B[39mreset(\u001B[38;5;241m*\u001B[39m\u001B[38;5;241m*\u001B[39mkwargs)\n",
      "File \u001B[1;32m~\\anaconda3\\lib\\site-packages\\gymnasium\\utils\\passive_env_checker.py:186\u001B[0m, in \u001B[0;36menv_reset_passive_checker\u001B[1;34m(env, **kwargs)\u001B[0m\n\u001B[0;32m    181\u001B[0m     logger\u001B[38;5;241m.\u001B[39mdeprecation(\n\u001B[0;32m    182\u001B[0m         \u001B[38;5;124m\"\u001B[39m\u001B[38;5;124mCurrent gymnasium version requires that `Env.reset` can be passed `options` to allow the environment initialisation to be passed additional information.\u001B[39m\u001B[38;5;124m\"\u001B[39m\n\u001B[0;32m    183\u001B[0m     )\n\u001B[0;32m    185\u001B[0m \u001B[38;5;66;03m# Checks the result of env.reset with kwargs\u001B[39;00m\n\u001B[1;32m--> 186\u001B[0m result \u001B[38;5;241m=\u001B[39m env\u001B[38;5;241m.\u001B[39mreset(\u001B[38;5;241m*\u001B[39m\u001B[38;5;241m*\u001B[39mkwargs)\n\u001B[0;32m    188\u001B[0m \u001B[38;5;28;01mif\u001B[39;00m \u001B[38;5;129;01mnot\u001B[39;00m \u001B[38;5;28misinstance\u001B[39m(result, \u001B[38;5;28mtuple\u001B[39m):\n\u001B[0;32m    189\u001B[0m     logger\u001B[38;5;241m.\u001B[39mwarn(\n\u001B[0;32m    190\u001B[0m         \u001B[38;5;124mf\u001B[39m\u001B[38;5;124m\"\u001B[39m\u001B[38;5;124mThe result returned by `env.reset()` was not a tuple of the form `(obs, info)`, where `obs` is a observation and `info` is a dictionary containing additional information. Actual type: `\u001B[39m\u001B[38;5;132;01m{\u001B[39;00m\u001B[38;5;28mtype\u001B[39m(result)\u001B[38;5;132;01m}\u001B[39;00m\u001B[38;5;124m`\u001B[39m\u001B[38;5;124m\"\u001B[39m\n\u001B[0;32m    191\u001B[0m     )\n",
      "File \u001B[1;32m~\\Desktop\\Clase\\TFG\\drone_tfg_juanes\\enviroments_package\\Drone_Env.py:84\u001B[0m, in \u001B[0;36mDroneEnv.reset\u001B[1;34m(self, seed, options)\u001B[0m\n\u001B[0;32m     81\u001B[0m \u001B[38;5;28mself\u001B[39m\u001B[38;5;241m.\u001B[39mreward_function_loader\u001B[38;5;241m.\u001B[39mrestart()\n\u001B[0;32m     82\u001B[0m \u001B[38;5;28mself\u001B[39m\u001B[38;5;241m.\u001B[39mreward_function \u001B[38;5;241m=\u001B[39m \u001B[38;5;28mself\u001B[39m\u001B[38;5;241m.\u001B[39mreward_function_loader\u001B[38;5;241m.\u001B[39mget_next_reward_function()\n\u001B[1;32m---> 84\u001B[0m \u001B[38;5;28;43mself\u001B[39;49m\u001B[38;5;241;43m.\u001B[39;49m\u001B[43mdrone\u001B[49m\u001B[38;5;241;43m.\u001B[39;49m\u001B[43msend\u001B[49m\u001B[43m(\u001B[49m\u001B[43m{\u001B[49m\u001B[38;5;124;43m\"\u001B[39;49m\u001B[38;5;124;43mACTION\u001B[39;49m\u001B[38;5;124;43m\"\u001B[39;49m\u001B[43m:\u001B[49m\u001B[43m \u001B[49m\u001B[38;5;124;43m\"\u001B[39;49m\u001B[38;5;124;43mRESET\u001B[39;49m\u001B[38;5;124;43m\"\u001B[39;49m\u001B[43m,\u001B[49m\u001B[43m \u001B[49m\u001B[38;5;124;43m\"\u001B[39;49m\u001B[38;5;124;43mPARAMS\u001B[39;49m\u001B[38;5;124;43m\"\u001B[39;49m\u001B[43m:\u001B[49m\u001B[43m \u001B[49m\u001B[38;5;124;43m\"\u001B[39;49m\u001B[38;5;124;43m\"\u001B[39;49m\u001B[43m}\u001B[49m\u001B[43m)\u001B[49m\n\u001B[0;32m     85\u001B[0m \u001B[38;5;28mself\u001B[39m\u001B[38;5;241m.\u001B[39mmotors \u001B[38;5;241m=\u001B[39m [\u001B[38;5;241m0\u001B[39m, \u001B[38;5;241m0\u001B[39m, \u001B[38;5;241m0\u001B[39m, \u001B[38;5;241m0\u001B[39m]\n\u001B[0;32m     86\u001B[0m obs \u001B[38;5;241m=\u001B[39m \u001B[38;5;28mself\u001B[39m\u001B[38;5;241m.\u001B[39m_get_obs()\n",
      "File \u001B[1;32m~\\Desktop\\Clase\\TFG\\drone_tfg_juanes\\simulation_package\\controllers\\xyz_controller\\drone_library\\drone_simulation.py:31\u001B[0m, in \u001B[0;36mDrone.send\u001B[1;34m(self, action)\u001B[0m\n\u001B[0;32m     30\u001B[0m \u001B[38;5;28;01mdef\u001B[39;00m \u001B[38;5;21msend\u001B[39m(\u001B[38;5;28mself\u001B[39m, action):\n\u001B[1;32m---> 31\u001B[0m     \u001B[38;5;28;43mself\u001B[39;49m\u001B[38;5;241;43m.\u001B[39;49m\u001B[43mchannel\u001B[49m\u001B[38;5;241;43m.\u001B[39;49m\u001B[43msend\u001B[49m\u001B[43m(\u001B[49m\u001B[43mpickle\u001B[49m\u001B[38;5;241;43m.\u001B[39;49m\u001B[43mdumps\u001B[49m\u001B[43m(\u001B[49m\u001B[43maction\u001B[49m\u001B[43m)\u001B[49m\u001B[43m)\u001B[49m\n",
      "File \u001B[1;32m~\\Desktop\\Clase\\TFG\\drone_tfg_juanes\\simulation_package\\controllers\\xyz_controller\\drone_library\\SharedMemoryCommunication.py:71\u001B[0m, in \u001B[0;36mComm.send\u001B[1;34m(self, data)\u001B[0m\n\u001B[0;32m     69\u001B[0m \u001B[38;5;28mself\u001B[39m\u001B[38;5;241m.\u001B[39msend_start_emitter(data)\n\u001B[0;32m     70\u001B[0m \u001B[38;5;28;01mfor\u001B[39;00m i \u001B[38;5;129;01min\u001B[39;00m \u001B[38;5;28mrange\u001B[39m(\u001B[38;5;241m0\u001B[39m, \u001B[38;5;28mlen\u001B[39m(data), \u001B[38;5;28mself\u001B[39m\u001B[38;5;241m.\u001B[39mbuffer_size):\n\u001B[1;32m---> 71\u001B[0m     \u001B[38;5;28;43mself\u001B[39;49m\u001B[38;5;241;43m.\u001B[39;49m\u001B[43mwait_emitter\u001B[49m\u001B[43m(\u001B[49m\u001B[43m)\u001B[49m\n\u001B[0;32m     72\u001B[0m     chunk \u001B[38;5;241m=\u001B[39m data[i:i \u001B[38;5;241m+\u001B[39m \u001B[38;5;28mself\u001B[39m\u001B[38;5;241m.\u001B[39mbuffer_size]\n\u001B[0;32m     73\u001B[0m     \u001B[38;5;28;01mif\u001B[39;00m \u001B[38;5;28mlen\u001B[39m(chunk) \u001B[38;5;241m<\u001B[39m \u001B[38;5;28mself\u001B[39m\u001B[38;5;241m.\u001B[39mbuffer_size:\n",
      "File \u001B[1;32m~\\Desktop\\Clase\\TFG\\drone_tfg_juanes\\simulation_package\\controllers\\xyz_controller\\drone_library\\SharedMemoryCommunication.py:110\u001B[0m, in \u001B[0;36mComm.wait_emitter\u001B[1;34m(self)\u001B[0m\n\u001B[0;32m    108\u001B[0m \u001B[38;5;28;01mwhile\u001B[39;00m \u001B[38;5;129;01mnot\u001B[39;00m \u001B[38;5;28mself\u001B[39m\u001B[38;5;241m.\u001B[39msem_emitter\u001B[38;5;241m.\u001B[39mis_write_open():\n\u001B[0;32m    109\u001B[0m     \u001B[38;5;28;01mif\u001B[39;00m \u001B[38;5;28mself\u001B[39m\u001B[38;5;241m.\u001B[39mclose\u001B[38;5;241m.\u001B[39mis_set():\n\u001B[1;32m--> 110\u001B[0m         \u001B[38;5;28;01mraise\u001B[39;00m \u001B[38;5;167;01mException\u001B[39;00m(\u001B[38;5;124m\"\u001B[39m\u001B[38;5;124mcrashed\u001B[39m\u001B[38;5;124m\"\u001B[39m)\n",
      "\u001B[1;31mException\u001B[0m: crashed"
     ]
    }
   ],
   "source": [
    "import stable_baselines3\n",
    "from stable_baselines3 import PPO\n",
    "from stable_baselines3 import A2C\n",
    "\n",
    "\n",
    "model = PPO(\"MultiInputPolicy\", env, verbose=1)\n",
    "model.learn(total_timesteps=50, progress_bar=True)"
   ],
   "metadata": {
    "collapsed": false,
    "ExecuteTime": {
     "end_time": "2024-10-29T16:30:29.114832200Z",
     "start_time": "2024-10-29T16:29:41.580928400Z"
    }
   }
  },
  {
   "cell_type": "code",
   "execution_count": 2,
   "outputs": [
    {
     "name": "stdout",
     "output_type": "stream",
     "text": [
      "Nombres generados: request_memory_1, response_memory_1\n",
      "Nombres generados: request_memory_2, response_memory_2\n",
      "Nombres generados: request_memory_3, response_memory_3\n",
      "Nombres generados: request_memory_4, response_memory_4\n",
      "Observaciones iniciales: OrderedDict([('accelerometer', array([[6.8723333e-01, 4.4039552e-05, 9.7858982e+00],\n",
      "       [6.8723333e-01, 4.4181412e-05, 9.7858982e+00],\n",
      "       [6.8723333e-01, 4.4039552e-05, 9.7858982e+00],\n",
      "       [6.8723333e-01, 4.4004479e-05, 9.7858982e+00]], dtype=float32)), ('altimeter', array([[1.8055726],\n",
      "       [1.8055726],\n",
      "       [1.8055726],\n",
      "       [1.8055726]], dtype=float32)), ('camera', array([[127,  84,  69, ..., 139, 196, 255],\n",
      "       [127,  84,  69, ..., 139, 196, 255],\n",
      "       [127,  84,  69, ..., 139, 196, 255],\n",
      "       [127,  84,  69, ..., 139, 196, 255]], dtype=uint8)), ('command', array([[0, 0, 0, 0, 0, 0, 0, 1],\n",
      "       [0, 0, 0, 0, 0, 0, 0, 1],\n",
      "       [0, 0, 0, 0, 0, 0, 0, 1],\n",
      "       [0, 0, 0, 0, 0, 0, 0, 1]], dtype=int8)), ('gps', array([[-16.315697 ,   1.0058862,   1.8055726],\n",
      "       [-16.315697 ,   1.0058862,   1.8055726],\n",
      "       [-16.315697 ,   1.0058862,   1.8055726],\n",
      "       [-16.315697 ,   1.0058862,   1.8055726]], dtype=float32)), ('inertial unit', array([[-1.7789273e-04, -3.5048269e-02, -5.1373057e-03,  9.9937242e-01],\n",
      "       [-1.7791735e-04, -3.5048265e-02, -5.1373048e-03,  9.9937242e-01],\n",
      "       [-1.7789273e-04, -3.5048269e-02, -5.1373057e-03,  9.9937242e-01],\n",
      "       [-1.7790007e-04, -3.5048265e-02, -5.1373052e-03,  9.9937242e-01]],\n",
      "      dtype=float32)), ('left distance sensor', array([[0.904],\n",
      "       [0.904],\n",
      "       [0.904],\n",
      "       [0.904]], dtype=float32)), ('right distance sensor', array([[0.915],\n",
      "       [0.915],\n",
      "       [0.915],\n",
      "       [0.915]], dtype=float32))])\n",
      "Observaciones después de un paso: OrderedDict([('accelerometer', array([[6.8723512e-01, 4.3097371e-05, 9.7858992e+00],\n",
      "       [6.9113779e-01, 6.8216803e-05, 9.8033495e+00],\n",
      "       [6.8723637e-01, 4.3595915e-05, 9.7859163e+00],\n",
      "       [6.8723333e-01, 4.4339169e-05, 9.7858982e+00]], dtype=float32)), ('altimeter', array([[1.8055726],\n",
      "       [1.8055726],\n",
      "       [1.8055727],\n",
      "       [1.8055726]], dtype=float32)), ('camera', array([[127,  84,  69, ..., 139, 196, 255],\n",
      "       [127,  84,  69, ..., 139, 196, 255],\n",
      "       [127,  84,  69, ..., 139, 196, 255],\n",
      "       [127,  84,  69, ..., 139, 196, 255]], dtype=uint8)), ('command', array([[0, 0, 0, 0, 0, 0, 0, 1],\n",
      "       [0, 0, 0, 0, 0, 0, 0, 1],\n",
      "       [0, 0, 0, 0, 0, 0, 0, 1],\n",
      "       [0, 0, 0, 0, 0, 0, 0, 1]], dtype=int8)), ('gps', array([[-16.315697 ,   1.0058862,   1.8055726],\n",
      "       [-16.315695 ,   1.0058862,   1.8055872],\n",
      "       [-16.315697 ,   1.0058862,   1.8055727],\n",
      "       [-16.315697 ,   1.0058862,   1.8055726]], dtype=float32)), ('inertial unit', array([[-1.7790627e-04, -3.5048265e-02, -5.1373299e-03,  9.9937242e-01],\n",
      "       [-1.7792953e-04, -3.5048265e-02, -5.1373048e-03,  9.9937242e-01],\n",
      "       [-1.7788821e-04, -3.5048205e-02, -5.1373178e-03,  9.9937242e-01],\n",
      "       [-1.7790549e-04, -3.5048265e-02, -5.1373076e-03,  9.9937242e-01]],\n",
      "      dtype=float32)), ('left distance sensor', array([[0.904],\n",
      "       [0.904],\n",
      "       [0.904],\n",
      "       [0.904]], dtype=float32)), ('right distance sensor', array([[0.915],\n",
      "       [0.915],\n",
      "       [0.915],\n",
      "       [0.915]], dtype=float32))])\n",
      "Recompensas: [0.       0.       5.781985 7.781985]\n",
      "Terminado: [ True  True  True False]\n"
     ]
    }
   ],
   "source": [
    "from stable_baselines3.common.vec_env import DummyVecEnv\n",
    "\n",
    "# Crear una función de fábrica para inicializar el entorno\n",
    "def make_env():\n",
    "    return gymnasium.make('drone_tfg_juanes/Drone-v1', simulation_path = world_dir, reward_json_path = json_take_off)\n",
    "\n",
    "# Crear múltiples instancias de tu entorno en paralelo usando DummyVecEnv\n",
    "env = DummyVecEnv([make_env for _ in range(4)])  # 4 instancias en paralelo\n",
    "\n",
    "# Prueba de paso de acción en todos los entornos para ver si funcionan en paralelo\n",
    "observations = env.reset()\n",
    "print(\"Observaciones iniciales:\", observations)\n",
    "\n",
    "actions = [env.action_space.sample() for _ in range(4)]  # Genera acciones aleatorias para cada instancia\n",
    "observations, rewards, dones, infos = env.step(actions)\n",
    "print(\"Observaciones después de un paso:\", observations)\n",
    "print(\"Recompensas:\", rewards)\n",
    "print(\"Terminado:\", dones)\n",
    "env.close()\n"
   ],
   "metadata": {
    "collapsed": false,
    "ExecuteTime": {
     "end_time": "2024-10-29T18:02:19.547780600Z",
     "start_time": "2024-10-29T18:01:42.226607600Z"
    }
   }
  },
  {
   "cell_type": "code",
   "execution_count": null,
   "outputs": [],
   "source": [],
   "metadata": {
    "collapsed": false
   }
  }
 ],
 "metadata": {
  "kernelspec": {
   "display_name": "Python 3",
   "language": "python",
   "name": "python3"
  },
  "language_info": {
   "codemirror_mode": {
    "name": "ipython",
    "version": 2
   },
   "file_extension": ".py",
   "mimetype": "text/x-python",
   "name": "python",
   "nbconvert_exporter": "python",
   "pygments_lexer": "ipython2",
   "version": "2.7.6"
  }
 },
 "nbformat": 4,
 "nbformat_minor": 0
}
