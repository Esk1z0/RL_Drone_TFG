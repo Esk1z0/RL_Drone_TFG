{
 "cells": [
  {
   "cell_type": "code",
   "execution_count": 7,
   "outputs": [],
   "source": [
    "import enviroments_package\n",
    "import gymnasium\n",
    "\n",
    "world_dir = \"/Users/jeste/Desktop/Clase/TFG/drone_tfg_juanes/simulation_package/worlds/my_frst_webots_world.wbt\"\n",
    "json_take_off = \"/Users/jeste/Desktop/Clase/TFG/drone_tfg_juanes/configs/reward_package_config/takeoff.json\"\n",
    "json_basic = \"/Users/jeste/Desktop/Clase/TFG/drone_tfg_juanes/configs/reward_package_config/basic_no_roll.json\""
   ],
   "metadata": {
    "collapsed": false,
    "ExecuteTime": {
     "end_time": "2024-11-07T16:13:02.201276800Z",
     "start_time": "2024-11-07T16:13:01.937277300Z"
    }
   }
  },
  {
   "cell_type": "code",
   "execution_count": 8,
   "outputs": [],
   "source": [
    "import gymnasium\n",
    "from stable_baselines3.common.env_util import SubprocVecEnv\n",
    "from enviroments_package import RemoveKeyObservationWrapper, ScaleRewardWrapper, ScaleActionWrapper\n",
    "\n",
    "# Define el número de entornos que quieres crear\n",
    "num_envs = 4  # Cambia este valor según tus necesidades\n",
    "\n",
    "# Define la función make_env\n",
    "def make_env():\n",
    "    def _init():\n",
    "        # Crea el entorno base\n",
    "        env = gymnasium.make('drone_tfg_juanes/Drone-v1', simulation_path=world_dir, reward_json_path=json_basic, no_render=False)\n",
    "\n",
    "        # Aplica los wrappers necesarios\n",
    "        env = RemoveKeyObservationWrapper(env, remove_keys=[\"camera\", \"gps\"])\n",
    "        env = ScaleRewardWrapper(env, scale_factor=0.1)\n",
    "        env = ScaleActionWrapper(env, in_low=0, in_high=2, out_low=0, out_high=576)\n",
    "        return env\n",
    "    return _init\n",
    "\n",
    "# Usa make_vec_env para crear un DummyVecEnv con los entornos creados por make_env\n",
    "env = SubprocVecEnv([make_env() for _ in range(num_envs)])\n"
   ],
   "metadata": {
    "collapsed": false,
    "ExecuteTime": {
     "end_time": "2024-11-07T16:13:12.018560300Z",
     "start_time": "2024-11-07T16:13:01.947277400Z"
    }
   }
  },
  {
   "cell_type": "code",
   "execution_count": 9,
   "outputs": [],
   "source": [
    "from stable_baselines3.common.callbacks import BaseCallback\n",
    "\n",
    "\n",
    "class TrainingCallback(BaseCallback):\n",
    "    def __init__(self, env, verbose=1):\n",
    "        super(TrainingCallback, self).__init__(verbose)\n",
    "        self.env = env\n",
    "\n",
    "\n",
    "    def _on_step(self) -> bool:\n",
    "        return True\n",
    "\n",
    "    def _on_rollout_start(self) -> None:\n",
    "        self.env.reset()\n",
    "\n",
    "    def _on_training_end(self):\n",
    "        # Este método se llama al final del entrenamiento\n",
    "        print(\"Entrenamiento finalizado. Cerrando el entorno...\")\n",
    "        self.env.close()  # Cerrar el entorno para evitar problemas\n",
    "\n",
    "\n",
    "# Usar el callback al entrenar\n",
    "\n",
    "callback = TrainingCallback(env=env)"
   ],
   "metadata": {
    "collapsed": false,
    "ExecuteTime": {
     "end_time": "2024-11-07T16:13:12.022559800Z",
     "start_time": "2024-11-07T16:13:12.018560300Z"
    }
   }
  },
  {
   "cell_type": "code",
   "execution_count": 10,
   "outputs": [
    {
     "name": "stdout",
     "output_type": "stream",
     "text": [
      "Logging to ./logs/ppo_training/\n",
      "Using cuda device\n",
      "-----------------------------\n",
      "| time/              |      |\n",
      "|    fps             | 26   |\n",
      "|    iterations      | 1    |\n",
      "|    time_elapsed    | 157  |\n",
      "|    total_timesteps | 4096 |\n",
      "-----------------------------\n",
      "-----------------------------------------\n",
      "| time/                   |             |\n",
      "|    fps                  | 26          |\n",
      "|    iterations           | 2           |\n",
      "|    time_elapsed         | 313         |\n",
      "|    total_timesteps      | 8192        |\n",
      "| train/                  |             |\n",
      "|    approx_kl            | 0.039230138 |\n",
      "|    clip_fraction        | 0.204       |\n",
      "|    clip_range           | 0.2         |\n",
      "|    entropy_loss         | -5.91       |\n",
      "|    explained_variance   | 8.76e-05    |\n",
      "|    learning_rate        | 0.0003      |\n",
      "|    loss                 | 20.1        |\n",
      "|    n_updates            | 10          |\n",
      "|    policy_gradient_loss | 0.0108      |\n",
      "|    std                  | 1.11        |\n",
      "|    value_loss           | 74          |\n",
      "-----------------------------------------\n",
      "-----------------------------------------\n",
      "| time/                   |             |\n",
      "|    fps                  | 25          |\n",
      "|    iterations           | 3           |\n",
      "|    time_elapsed         | 476         |\n",
      "|    total_timesteps      | 12288       |\n",
      "| train/                  |             |\n",
      "|    approx_kl            | 0.008752881 |\n",
      "|    clip_fraction        | 0.0143      |\n",
      "|    clip_range           | 0.2         |\n",
      "|    entropy_loss         | -6.14       |\n",
      "|    explained_variance   | 3.36e-05    |\n",
      "|    learning_rate        | 0.0003      |\n",
      "|    loss                 | 31.1        |\n",
      "|    n_updates            | 20          |\n",
      "|    policy_gradient_loss | -7.98e-06   |\n",
      "|    std                  | 1.16        |\n",
      "|    value_loss           | 110         |\n",
      "-----------------------------------------\n",
      "-----------------------------------------\n",
      "| time/                   |             |\n",
      "|    fps                  | 25          |\n",
      "|    iterations           | 4           |\n",
      "|    time_elapsed         | 634         |\n",
      "|    total_timesteps      | 16384       |\n",
      "| train/                  |             |\n",
      "|    approx_kl            | 0.016195834 |\n",
      "|    clip_fraction        | 0.0485      |\n",
      "|    clip_range           | 0.2         |\n",
      "|    entropy_loss         | -6.38       |\n",
      "|    explained_variance   | 5.36e-07    |\n",
      "|    learning_rate        | 0.0003      |\n",
      "|    loss                 | 62.6        |\n",
      "|    n_updates            | 30          |\n",
      "|    policy_gradient_loss | 0.00231     |\n",
      "|    std                  | 1.24        |\n",
      "|    value_loss           | 125         |\n",
      "-----------------------------------------\n",
      "------------------------------------------\n",
      "| time/                   |              |\n",
      "|    fps                  | 25           |\n",
      "|    iterations           | 5            |\n",
      "|    time_elapsed         | 792          |\n",
      "|    total_timesteps      | 20480        |\n",
      "| train/                  |              |\n",
      "|    approx_kl            | 0.0150121115 |\n",
      "|    clip_fraction        | 0.0597       |\n",
      "|    clip_range           | 0.2          |\n",
      "|    entropy_loss         | -6.64        |\n",
      "|    explained_variance   | 0.000327     |\n",
      "|    learning_rate        | 0.0003       |\n",
      "|    loss                 | 57           |\n",
      "|    n_updates            | 40           |\n",
      "|    policy_gradient_loss | 0.00222      |\n",
      "|    std                  | 1.32         |\n",
      "|    value_loss           | 146          |\n",
      "------------------------------------------\n",
      "Entrenamiento finalizado. Cerrando el entorno...\n"
     ]
    }
   ],
   "source": [
    "import os\n",
    "from stable_baselines3 import PPO\n",
    "from stable_baselines3.common.logger import configure\n",
    "\n",
    "timesteps = 20480\n",
    "log_dir = \"./logs/ppo_training/\"\n",
    "os.makedirs(log_dir, exist_ok=True)\n",
    "\n",
    "# Configurar el logger con salida en csv, log, stdout y tensorboard\n",
    "new_logger = configure(log_dir, [\"stdout\", \"csv\", \"log\", \"tensorboard\"])\n",
    "\n",
    "# Verificar si el archivo ppomodel existe en la carpeta ./models/\n",
    "if not os.path.exists('./models/ppomodel'):\n",
    "    # Crear y entrenar el modelo solo si el archivo no existe\n",
    "    model = PPO(\n",
    "        \"MultiInputPolicy\",\n",
    "        env,\n",
    "        verbose=1,\n",
    "        n_steps=1024,        # Tamaño típico, controla el buffer de experiencias para actualizar la política\n",
    "        batch_size=64,      # Tamaño del lote, normalmente 64 o 128\n",
    "        learning_rate=3e-4, # Tasa de aprendizaje típica en PPO\n",
    "        ent_coef=0.15       # Coeficiente de entropía para exploración, ajuste común en PPO\n",
    "    )\n",
    "    model.set_logger(new_logger)  # Asignar el nuevo logger al modelo\n",
    "    model.learn(total_timesteps=timesteps, callback=callback)\n",
    "    model.save('./models/ppomodel')  # Guardar el modelo para futuras ejecuciones\n",
    "else:\n",
    "    # Cargar el modelo guardado\n",
    "    model = PPO.load(\"./models/ppomodel\", env=env)\n",
    "    model.set_logger(new_logger)  # Asignar el nuevo logger al modelo cargado\n",
    "    # Continuar el entrenamiento desde el último punto\n",
    "    model.learn(total_timesteps=timesteps, callback=callback)  # Ajusta los timesteps si quieres más entrenamiento\n",
    "    model.save(path=\"./models/ppomodel\")"
   ],
   "metadata": {
    "collapsed": false,
    "ExecuteTime": {
     "end_time": "2024-11-07T16:26:39.757515300Z",
     "start_time": "2024-11-07T16:13:12.028560100Z"
    }
   }
  },
  {
   "cell_type": "code",
   "execution_count": 11,
   "outputs": [
    {
     "name": "stdout",
     "output_type": "stream",
     "text": [
      "Archivo copiado y renombrado a ./data_collected/ppo20241107_172639.csv\n"
     ]
    }
   ],
   "source": [
    "import os\n",
    "import shutil\n",
    "from datetime import datetime\n",
    "\n",
    "\n",
    "def move_and_rename_csv(src_dir, dst_dir, new_name):\n",
    "    # Buscar el archivo CSV en el directorio fuente\n",
    "    csv_files = [f for f in os.listdir(src_dir) if f.endswith('.csv')]\n",
    "\n",
    "    # Verificar si hay algún archivo CSV en el directorio de origen\n",
    "    if not csv_files:\n",
    "        print(\"No se encontró ningún archivo CSV en el directorio de origen.\")\n",
    "        return\n",
    "\n",
    "    # Tomar el primer archivo CSV encontrado\n",
    "    csv_file = csv_files[0]\n",
    "    src_path = os.path.join(src_dir, csv_file)\n",
    "    dst_path = os.path.join(dst_dir, new_name)\n",
    "\n",
    "    # Mover y renombrar el archivo\n",
    "    shutil.copy2(src_path, dst_path)\n",
    "    print(f\"Archivo copiado y renombrado a {dst_path}\")\n",
    "\n",
    "\n",
    "# Ejemplo de uso\n",
    "src_directory = log_dir\n",
    "dst_directory = './data_collected/'  # Cambia por la ruta de tu carpeta de destino\n",
    "new_filename = f'ppo{datetime.now().strftime(\"%Y%m%d_%H%M%S\")}.csv'  # Cambia por el nombre deseado del archivo en el destino\n",
    "\n",
    "move_and_rename_csv(src_directory, dst_directory, new_filename)"
   ],
   "metadata": {
    "collapsed": false,
    "ExecuteTime": {
     "end_time": "2024-11-07T16:26:39.773516Z",
     "start_time": "2024-11-07T16:26:39.759516100Z"
    }
   }
  },
  {
   "cell_type": "markdown",
   "source": [
    "observation, _ = env.reset()\n",
    "\n",
    "for i in range(100):  # Cambia el número de pasos según quieras observar\n",
    "    action, _states = model.predict(observation)  # Usa deterministic=True para ver la política aprendida\n",
    "    observation, reward, terminated, truncated, _ = env.step(action)\n",
    "\n",
    "    if terminated:\n",
    "        observation, _ = env.reset()  # Reiniciar el entorno al final del episodio\n",
    "\n",
    "# Cerrar el entorno después de la prueba\n",
    "env.close()"
   ],
   "metadata": {
    "collapsed": false
   }
  },
  {
   "cell_type": "code",
   "execution_count": 11,
   "outputs": [],
   "source": [],
   "metadata": {
    "collapsed": false,
    "ExecuteTime": {
     "end_time": "2024-11-07T16:26:39.826514500Z",
     "start_time": "2024-11-07T16:26:39.774516400Z"
    }
   }
  }
 ],
 "metadata": {
  "kernelspec": {
   "display_name": "Python 3",
   "language": "python",
   "name": "python3"
  },
  "language_info": {
   "codemirror_mode": {
    "name": "ipython",
    "version": 2
   },
   "file_extension": ".py",
   "mimetype": "text/x-python",
   "name": "python",
   "nbconvert_exporter": "python",
   "pygments_lexer": "ipython2",
   "version": "2.7.6"
  }
 },
 "nbformat": 4,
 "nbformat_minor": 0
}
